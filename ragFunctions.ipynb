{
 "cells": [
  {
   "cell_type": "code",
   "id": "initial_id",
   "metadata": {
    "collapsed": true
   },
   "source": "!pip install selenium beautifulsoup4 readability-lxml requests langchain sentence-transformers lxml",
   "outputs": [],
   "execution_count": null
  },
  {
   "metadata": {
    "ExecuteTime": {
     "end_time": "2025-01-18T18:32:50.075753Z",
     "start_time": "2025-01-18T18:32:44.036902Z"
    }
   },
   "cell_type": "code",
   "source": [
    "# For link Scrapping\n",
    "from selenium import webdriver\n",
    "from selenium.webdriver.chrome.service import Service\n",
    "from selenium.webdriver.chrome.options import Options\n",
    "from bs4 import BeautifulSoup\n",
    "\n",
    "# For web scrapping\n",
    "from readability.readability import Document as ReadabilityDocument\n",
    "import requests\n",
    "#from bs4 import BeautifulSoup\n",
    "import urllib.parse\n",
    "import uuid\n",
    "\n",
    "# For semantic search\n",
    "from langchain_text_splitters import RecursiveCharacterTextSplitter\n",
    "from langchain.schema import Document\n",
    "from sentence_transformers.util import cos_sim\n",
    "from sentence_transformers import SentenceTransformer\n"
   ],
   "id": "8d00d0614512e400",
   "outputs": [
    {
     "ename": "ImportError",
     "evalue": "tokenizers>=0.21,<0.22 is required for a normal functioning of this module, but found tokenizers==0.20.3.\nTry: `pip install transformers -U` or `pip install -e '.[dev]'` if you're working with git main",
     "output_type": "error",
     "traceback": [
      "\u001B[1;31m---------------------------------------------------------------------------\u001B[0m",
      "\u001B[1;31mImportError\u001B[0m                               Traceback (most recent call last)",
      "Cell \u001B[1;32mIn[1], line 17\u001B[0m\n\u001B[0;32m     15\u001B[0m \u001B[38;5;28;01mfrom\u001B[39;00m\u001B[38;5;250m \u001B[39m\u001B[38;5;21;01mlangchain_text_splitters\u001B[39;00m\u001B[38;5;250m \u001B[39m\u001B[38;5;28;01mimport\u001B[39;00m RecursiveCharacterTextSplitter\n\u001B[0;32m     16\u001B[0m \u001B[38;5;28;01mfrom\u001B[39;00m\u001B[38;5;250m \u001B[39m\u001B[38;5;21;01mlangchain\u001B[39;00m\u001B[38;5;21;01m.\u001B[39;00m\u001B[38;5;21;01mschema\u001B[39;00m\u001B[38;5;250m \u001B[39m\u001B[38;5;28;01mimport\u001B[39;00m Document\n\u001B[1;32m---> 17\u001B[0m \u001B[38;5;28;01mfrom\u001B[39;00m\u001B[38;5;250m \u001B[39m\u001B[38;5;21;01msentence_transformers\u001B[39;00m\u001B[38;5;21;01m.\u001B[39;00m\u001B[38;5;21;01mutil\u001B[39;00m\u001B[38;5;250m \u001B[39m\u001B[38;5;28;01mimport\u001B[39;00m cos_sim\n\u001B[0;32m     18\u001B[0m \u001B[38;5;28;01mfrom\u001B[39;00m\u001B[38;5;250m \u001B[39m\u001B[38;5;21;01msentence_transformers\u001B[39;00m\u001B[38;5;250m \u001B[39m\u001B[38;5;28;01mimport\u001B[39;00m SentenceTransformer\n",
      "File \u001B[1;32m~\\PycharmProjects\\pythonProject\\.venv\\Lib\\site-packages\\sentence_transformers\\__init__.py:9\u001B[0m\n\u001B[0;32m      6\u001B[0m \u001B[38;5;28;01mimport\u001B[39;00m\u001B[38;5;250m \u001B[39m\u001B[38;5;21;01mimportlib\u001B[39;00m\n\u001B[0;32m      7\u001B[0m \u001B[38;5;28;01mimport\u001B[39;00m\u001B[38;5;250m \u001B[39m\u001B[38;5;21;01mos\u001B[39;00m\n\u001B[1;32m----> 9\u001B[0m \u001B[38;5;28;01mfrom\u001B[39;00m\u001B[38;5;250m \u001B[39m\u001B[38;5;21;01msentence_transformers\u001B[39;00m\u001B[38;5;21;01m.\u001B[39;00m\u001B[38;5;21;01mbackend\u001B[39;00m\u001B[38;5;250m \u001B[39m\u001B[38;5;28;01mimport\u001B[39;00m (\n\u001B[0;32m     10\u001B[0m     export_dynamic_quantized_onnx_model,\n\u001B[0;32m     11\u001B[0m     export_optimized_onnx_model,\n\u001B[0;32m     12\u001B[0m     export_static_quantized_openvino_model,\n\u001B[0;32m     13\u001B[0m )\n\u001B[0;32m     14\u001B[0m \u001B[38;5;28;01mfrom\u001B[39;00m\u001B[38;5;250m \u001B[39m\u001B[38;5;21;01msentence_transformers\u001B[39;00m\u001B[38;5;21;01m.\u001B[39;00m\u001B[38;5;21;01mcross_encoder\u001B[39;00m\u001B[38;5;21;01m.\u001B[39;00m\u001B[38;5;21;01mCrossEncoder\u001B[39;00m\u001B[38;5;250m \u001B[39m\u001B[38;5;28;01mimport\u001B[39;00m CrossEncoder\n\u001B[0;32m     15\u001B[0m \u001B[38;5;28;01mfrom\u001B[39;00m\u001B[38;5;250m \u001B[39m\u001B[38;5;21;01msentence_transformers\u001B[39;00m\u001B[38;5;21;01m.\u001B[39;00m\u001B[38;5;21;01mdatasets\u001B[39;00m\u001B[38;5;250m \u001B[39m\u001B[38;5;28;01mimport\u001B[39;00m ParallelSentencesDataset, SentencesDataset\n",
      "File \u001B[1;32m~\\PycharmProjects\\pythonProject\\.venv\\Lib\\site-packages\\sentence_transformers\\backend.py:11\u001B[0m\n\u001B[0;32m      7\u001B[0m \u001B[38;5;28;01mfrom\u001B[39;00m\u001B[38;5;250m \u001B[39m\u001B[38;5;21;01mtyping\u001B[39;00m\u001B[38;5;250m \u001B[39m\u001B[38;5;28;01mimport\u001B[39;00m TYPE_CHECKING, Callable, Literal\n\u001B[0;32m      9\u001B[0m \u001B[38;5;28;01mimport\u001B[39;00m\u001B[38;5;250m \u001B[39m\u001B[38;5;21;01mhuggingface_hub\u001B[39;00m\n\u001B[1;32m---> 11\u001B[0m \u001B[38;5;28;01mfrom\u001B[39;00m\u001B[38;5;250m \u001B[39m\u001B[38;5;21;01msentence_transformers\u001B[39;00m\u001B[38;5;21;01m.\u001B[39;00m\u001B[38;5;21;01mutil\u001B[39;00m\u001B[38;5;250m \u001B[39m\u001B[38;5;28;01mimport\u001B[39;00m disable_datasets_caching, is_datasets_available\n\u001B[0;32m     13\u001B[0m logger \u001B[38;5;241m=\u001B[39m logging\u001B[38;5;241m.\u001B[39mgetLogger(\u001B[38;5;18m__name__\u001B[39m)\n\u001B[0;32m     15\u001B[0m \u001B[38;5;28;01mif\u001B[39;00m TYPE_CHECKING:\n",
      "File \u001B[1;32m~\\PycharmProjects\\pythonProject\\.venv\\Lib\\site-packages\\sentence_transformers\\util.py:22\u001B[0m\n\u001B[0;32m     20\u001B[0m \u001B[38;5;28;01mfrom\u001B[39;00m\u001B[38;5;250m \u001B[39m\u001B[38;5;21;01mtqdm\u001B[39;00m\u001B[38;5;250m \u001B[39m\u001B[38;5;28;01mimport\u001B[39;00m trange\n\u001B[0;32m     21\u001B[0m \u001B[38;5;28;01mfrom\u001B[39;00m\u001B[38;5;250m \u001B[39m\u001B[38;5;21;01mtqdm\u001B[39;00m\u001B[38;5;21;01m.\u001B[39;00m\u001B[38;5;21;01mautonotebook\u001B[39;00m\u001B[38;5;250m \u001B[39m\u001B[38;5;28;01mimport\u001B[39;00m tqdm\n\u001B[1;32m---> 22\u001B[0m \u001B[38;5;28;01mfrom\u001B[39;00m\u001B[38;5;250m \u001B[39m\u001B[38;5;21;01mtransformers\u001B[39;00m\u001B[38;5;250m \u001B[39m\u001B[38;5;28;01mimport\u001B[39;00m is_torch_npu_available\n\u001B[0;32m     24\u001B[0m logger \u001B[38;5;241m=\u001B[39m logging\u001B[38;5;241m.\u001B[39mgetLogger(\u001B[38;5;18m__name__\u001B[39m)\n\u001B[0;32m     26\u001B[0m \u001B[38;5;28;01mif\u001B[39;00m TYPE_CHECKING:\n",
      "File \u001B[1;32m~\\PycharmProjects\\pythonProject\\.venv\\Lib\\site-packages\\transformers\\__init__.py:26\u001B[0m\n\u001B[0;32m     23\u001B[0m \u001B[38;5;28;01mfrom\u001B[39;00m\u001B[38;5;250m \u001B[39m\u001B[38;5;21;01mtyping\u001B[39;00m\u001B[38;5;250m \u001B[39m\u001B[38;5;28;01mimport\u001B[39;00m TYPE_CHECKING\n\u001B[0;32m     25\u001B[0m \u001B[38;5;66;03m# Check the dependencies satisfy the minimal versions required.\u001B[39;00m\n\u001B[1;32m---> 26\u001B[0m \u001B[38;5;28;01mfrom\u001B[39;00m\u001B[38;5;250m \u001B[39m\u001B[38;5;21;01m.\u001B[39;00m\u001B[38;5;250m \u001B[39m\u001B[38;5;28;01mimport\u001B[39;00m dependency_versions_check\n\u001B[0;32m     27\u001B[0m \u001B[38;5;28;01mfrom\u001B[39;00m\u001B[38;5;250m \u001B[39m\u001B[38;5;21;01m.\u001B[39;00m\u001B[38;5;21;01mutils\u001B[39;00m\u001B[38;5;250m \u001B[39m\u001B[38;5;28;01mimport\u001B[39;00m (\n\u001B[0;32m     28\u001B[0m     OptionalDependencyNotAvailable,\n\u001B[0;32m     29\u001B[0m     _LazyModule,\n\u001B[1;32m   (...)\u001B[0m\n\u001B[0;32m     48\u001B[0m     logging,\n\u001B[0;32m     49\u001B[0m )\n\u001B[0;32m     52\u001B[0m logger \u001B[38;5;241m=\u001B[39m logging\u001B[38;5;241m.\u001B[39mget_logger(\u001B[38;5;18m__name__\u001B[39m)  \u001B[38;5;66;03m# pylint: disable=invalid-name\u001B[39;00m\n",
      "File \u001B[1;32m~\\PycharmProjects\\pythonProject\\.venv\\Lib\\site-packages\\transformers\\dependency_versions_check.py:57\u001B[0m\n\u001B[0;32m     54\u001B[0m         \u001B[38;5;28;01mif\u001B[39;00m \u001B[38;5;129;01mnot\u001B[39;00m is_accelerate_available():\n\u001B[0;32m     55\u001B[0m             \u001B[38;5;28;01mcontinue\u001B[39;00m  \u001B[38;5;66;03m# not required, check version only if installed\u001B[39;00m\n\u001B[1;32m---> 57\u001B[0m     \u001B[43mrequire_version_core\u001B[49m\u001B[43m(\u001B[49m\u001B[43mdeps\u001B[49m\u001B[43m[\u001B[49m\u001B[43mpkg\u001B[49m\u001B[43m]\u001B[49m\u001B[43m)\u001B[49m\n\u001B[0;32m     58\u001B[0m \u001B[38;5;28;01melse\u001B[39;00m:\n\u001B[0;32m     59\u001B[0m     \u001B[38;5;28;01mraise\u001B[39;00m \u001B[38;5;167;01mValueError\u001B[39;00m(\u001B[38;5;124mf\u001B[39m\u001B[38;5;124m\"\u001B[39m\u001B[38;5;124mcan\u001B[39m\u001B[38;5;124m'\u001B[39m\u001B[38;5;124mt find \u001B[39m\u001B[38;5;132;01m{\u001B[39;00mpkg\u001B[38;5;132;01m}\u001B[39;00m\u001B[38;5;124m in \u001B[39m\u001B[38;5;132;01m{\u001B[39;00mdeps\u001B[38;5;241m.\u001B[39mkeys()\u001B[38;5;132;01m}\u001B[39;00m\u001B[38;5;124m, check dependency_versions_table.py\u001B[39m\u001B[38;5;124m\"\u001B[39m)\n",
      "File \u001B[1;32m~\\PycharmProjects\\pythonProject\\.venv\\Lib\\site-packages\\transformers\\utils\\versions.py:117\u001B[0m, in \u001B[0;36mrequire_version_core\u001B[1;34m(requirement)\u001B[0m\n\u001B[0;32m    115\u001B[0m \u001B[38;5;250m\u001B[39m\u001B[38;5;124;03m\"\"\"require_version wrapper which emits a core-specific hint on failure\"\"\"\u001B[39;00m\n\u001B[0;32m    116\u001B[0m hint \u001B[38;5;241m=\u001B[39m \u001B[38;5;124m\"\u001B[39m\u001B[38;5;124mTry: `pip install transformers -U` or `pip install -e \u001B[39m\u001B[38;5;124m'\u001B[39m\u001B[38;5;124m.[dev]\u001B[39m\u001B[38;5;124m'\u001B[39m\u001B[38;5;124m` if you\u001B[39m\u001B[38;5;124m'\u001B[39m\u001B[38;5;124mre working with git main\u001B[39m\u001B[38;5;124m\"\u001B[39m\n\u001B[1;32m--> 117\u001B[0m \u001B[38;5;28;01mreturn\u001B[39;00m \u001B[43mrequire_version\u001B[49m\u001B[43m(\u001B[49m\u001B[43mrequirement\u001B[49m\u001B[43m,\u001B[49m\u001B[43m \u001B[49m\u001B[43mhint\u001B[49m\u001B[43m)\u001B[49m\n",
      "File \u001B[1;32m~\\PycharmProjects\\pythonProject\\.venv\\Lib\\site-packages\\transformers\\utils\\versions.py:111\u001B[0m, in \u001B[0;36mrequire_version\u001B[1;34m(requirement, hint)\u001B[0m\n\u001B[0;32m    109\u001B[0m \u001B[38;5;28;01mif\u001B[39;00m want_ver \u001B[38;5;129;01mis\u001B[39;00m \u001B[38;5;129;01mnot\u001B[39;00m \u001B[38;5;28;01mNone\u001B[39;00m:\n\u001B[0;32m    110\u001B[0m     \u001B[38;5;28;01mfor\u001B[39;00m op, want_ver \u001B[38;5;129;01min\u001B[39;00m wanted\u001B[38;5;241m.\u001B[39mitems():\n\u001B[1;32m--> 111\u001B[0m         \u001B[43m_compare_versions\u001B[49m\u001B[43m(\u001B[49m\u001B[43mop\u001B[49m\u001B[43m,\u001B[49m\u001B[43m \u001B[49m\u001B[43mgot_ver\u001B[49m\u001B[43m,\u001B[49m\u001B[43m \u001B[49m\u001B[43mwant_ver\u001B[49m\u001B[43m,\u001B[49m\u001B[43m \u001B[49m\u001B[43mrequirement\u001B[49m\u001B[43m,\u001B[49m\u001B[43m \u001B[49m\u001B[43mpkg\u001B[49m\u001B[43m,\u001B[49m\u001B[43m \u001B[49m\u001B[43mhint\u001B[49m\u001B[43m)\u001B[49m\n",
      "File \u001B[1;32m~\\PycharmProjects\\pythonProject\\.venv\\Lib\\site-packages\\transformers\\utils\\versions.py:44\u001B[0m, in \u001B[0;36m_compare_versions\u001B[1;34m(op, got_ver, want_ver, requirement, pkg, hint)\u001B[0m\n\u001B[0;32m     39\u001B[0m     \u001B[38;5;28;01mraise\u001B[39;00m \u001B[38;5;167;01mValueError\u001B[39;00m(\n\u001B[0;32m     40\u001B[0m         \u001B[38;5;124mf\u001B[39m\u001B[38;5;124m\"\u001B[39m\u001B[38;5;124mUnable to compare versions for \u001B[39m\u001B[38;5;132;01m{\u001B[39;00mrequirement\u001B[38;5;132;01m}\u001B[39;00m\u001B[38;5;124m: need=\u001B[39m\u001B[38;5;132;01m{\u001B[39;00mwant_ver\u001B[38;5;132;01m}\u001B[39;00m\u001B[38;5;124m found=\u001B[39m\u001B[38;5;132;01m{\u001B[39;00mgot_ver\u001B[38;5;132;01m}\u001B[39;00m\u001B[38;5;124m. This is unusual. Consider\u001B[39m\u001B[38;5;124m\"\u001B[39m\n\u001B[0;32m     41\u001B[0m         \u001B[38;5;124mf\u001B[39m\u001B[38;5;124m\"\u001B[39m\u001B[38;5;124m reinstalling \u001B[39m\u001B[38;5;132;01m{\u001B[39;00mpkg\u001B[38;5;132;01m}\u001B[39;00m\u001B[38;5;124m.\u001B[39m\u001B[38;5;124m\"\u001B[39m\n\u001B[0;32m     42\u001B[0m     )\n\u001B[0;32m     43\u001B[0m \u001B[38;5;28;01mif\u001B[39;00m \u001B[38;5;129;01mnot\u001B[39;00m ops[op](version\u001B[38;5;241m.\u001B[39mparse(got_ver), version\u001B[38;5;241m.\u001B[39mparse(want_ver)):\n\u001B[1;32m---> 44\u001B[0m     \u001B[38;5;28;01mraise\u001B[39;00m \u001B[38;5;167;01mImportError\u001B[39;00m(\n\u001B[0;32m     45\u001B[0m         \u001B[38;5;124mf\u001B[39m\u001B[38;5;124m\"\u001B[39m\u001B[38;5;132;01m{\u001B[39;00mrequirement\u001B[38;5;132;01m}\u001B[39;00m\u001B[38;5;124m is required for a normal functioning of this module, but found \u001B[39m\u001B[38;5;132;01m{\u001B[39;00mpkg\u001B[38;5;132;01m}\u001B[39;00m\u001B[38;5;124m==\u001B[39m\u001B[38;5;132;01m{\u001B[39;00mgot_ver\u001B[38;5;132;01m}\u001B[39;00m\u001B[38;5;124m.\u001B[39m\u001B[38;5;132;01m{\u001B[39;00mhint\u001B[38;5;132;01m}\u001B[39;00m\u001B[38;5;124m\"\u001B[39m\n\u001B[0;32m     46\u001B[0m     )\n",
      "\u001B[1;31mImportError\u001B[0m: tokenizers>=0.21,<0.22 is required for a normal functioning of this module, but found tokenizers==0.20.3.\nTry: `pip install transformers -U` or `pip install -e '.[dev]'` if you're working with git main"
     ]
    }
   ],
   "execution_count": 1
  },
  {
   "metadata": {
    "ExecuteTime": {
     "end_time": "2025-01-18T18:43:41.454604Z",
     "start_time": "2025-01-18T18:43:32.689957Z"
    }
   },
   "cell_type": "code",
   "source": [
    "def link_scrape(query):\n",
    "    # DuckDuckGo search URL with query\n",
    "    duckduckgo_url = f\"https://html.duckduckgo.com/html/?q={query.replace(' ', '+')}\"\n",
    "    \n",
    "    # Path to Chrome browser\n",
    "    chrome_binary_path = r\"chrome-win64/chrome-win64/chrome.exe\"\n",
    "    \n",
    "    options = Options()\n",
    "    options.binary_location = chrome_binary_path\n",
    "    \n",
    "    # Path to ChromeDriver\n",
    "    chromedriver_path = r\"chromedriver-win64/chromedriver-win64/chromedriver.exe\"\n",
    "    service = Service(chromedriver_path)\n",
    "    \n",
    "    # Initialize WebDriver\n",
    "    driver = webdriver.Chrome(service=service, options=options)\n",
    "    driver.get(duckduckgo_url)\n",
    "    \n",
    "    # Retrieve page content\n",
    "    html_context = driver.page_source\n",
    "    soup = BeautifulSoup(html_context, \"html.parser\")\n",
    "    \n",
    "    # Extract links\n",
    "    links = []\n",
    "    for result in soup.find_all(\"a\", class_=\"result__a\"):\n",
    "        raw_link = result['href']\n",
    "        if \"uddg=\" in raw_link:\n",
    "            decoded_link = urllib.parse.parse_qs(urllib.parse.urlparse(raw_link).query).get('uddg', [None])[0]\n",
    "            if decoded_link:\n",
    "                links.append(decoded_link) \n",
    "    \n",
    "    driver.quit()  # close the driver\n",
    "    return links\n",
    "\n",
    "x = link_scrape(\"what is the suspension forks purpose on a bike\")\n",
    "print(x)"
   ],
   "id": "a34cf667a5f1ac27",
   "outputs": [
    {
     "name": "stdout",
     "output_type": "stream",
     "text": [
      "['https://www.bikeperfect.com/features/mountain-bike-suspension-forks-explained', 'https://www.choosemybicycle.com/en/woc/suspension-fork-everything-you-need-to-know-about-a-bicycle-suspension', 'https://outdoorlabwithj.com/suspension-fork-what-you-need-to-know/', 'https://en.wikipedia.org/wiki/Bicycle_fork', 'https://bike.bikegremlin.com/3832/advantages-and-disadvantages-of-suspension-shock-absorbers-on-bicycles/', 'https://cyclistguy.com/suspension-forks-for-mountain-bikes/', 'https://www.merlincycles.com/blog/buyers-guide-to-suspension-forks/', 'https://brainybiker.com/archives/293', 'https://en.wikipedia.org/wiki/Bicycle_suspension', 'https://bikexchange.com/mountain-bike-suspension-guide/']\n"
     ]
    }
   ],
   "execution_count": 11
  },
  {
   "metadata": {
    "ExecuteTime": {
     "end_time": "2025-01-18T18:43:50.070211Z",
     "start_time": "2025-01-18T18:43:46.690756Z"
    }
   },
   "cell_type": "code",
   "source": [
    "def web_scrape(links, max_texts=3):\n",
    "    documents = []  # List to store documents with metadata\n",
    "    i = 0  # Initialize counter\n",
    "    \n",
    "    for link in links:\n",
    "        if i >= max_texts: \n",
    "            break\n",
    "        \n",
    "        # Initialize headers for HTTP GET\n",
    "        headers = {\n",
    "            'User-Agent': \"Mozilla/5.0 (Windows NT 10.0; Win64; x64) AppleWebKit/537.36 (KHTML, like Gecko) Chrome/91.0.4472.124 Safari/537.36\"\n",
    "        }\n",
    "        try:\n",
    "            response = requests.get(link, headers=headers, timeout=10)\n",
    "            \n",
    "            if response.status_code == 200:\n",
    "                # Extract text from HTML\n",
    "                doc = ReadabilityDocument(response.text)  # Initialize Readability Document\n",
    "                main_content_html = doc.summary()  # Extract main content as HTML\n",
    "                soup = BeautifulSoup(main_content_html, \"html.parser\")  # Parse HTML\n",
    "                main_content_text = soup.get_text(strip=True)  # Extract clean text                \n",
    "                # Append document metadata to the list\n",
    "                doc = Document(page_content=main_content_text, metadata={\"source\": link})\n",
    "                documents.append(doc)\n",
    "                i += 1\n",
    "        except Exception as e:\n",
    "            print(f\"Error processing link {link}: {e}\")\n",
    "            continue\n",
    "    \n",
    "    return documents\n",
    "\n",
    "# Example usage:\n",
    "documents = web_scrape(x, max_texts=3)\n",
    "print(documents)"
   ],
   "id": "52476fef20847a03",
   "outputs": [
    {
     "name": "stdout",
     "output_type": "stream",
     "text": [
      "[Document(metadata={'source': 'https://www.bikeperfect.com/features/mountain-bike-suspension-forks-explained'}, page_content=\"Mountain bike suspension has a whole language of its own, and some of it seems to make no sense at all. Learn how to talk fork with our experts though and you’ll know what everything in your front suspension is called and what it does. We’ve also included the common descriptors of fork performance and problems, complete with advice on how to adjust your fork so it rides perfectly for you.You can navigate your way through the terms using the side navigation, we've also linked the explanations where relevant, so click on the hyperlinks for further info.For more on forks, see ourbest mountain bike forksguide andA to Z of MTB suspension.Air springSpring formed by a sealed air chamber. Lighter than acoil springand can be easily adjusted by altering the air pressure. Will naturally ramp up in resistance deeper in the stroke though and can theoretically change spring rate if it gets really hot when working hard. If you want a basic idea how it works, stick your finger over the end of a pump and try and press it down.ArchThe arch that joins the two lower legs together. Normally on the front of the fork, but Manitou arches have always been at the back (see the ‘WTF Manitou’ section later) and Fox copied that layout on their latest AI-designed superlight XC fork.Axle to crown heightThe overall length of the fork from the axle to where it connects to the bike. Not all forks of the same travel have the same axle to crown, so check the measurement if swapping forks in case it upsets your geometry. If you can get a bit more travel in for the same length, that’s a win though.BladderDamper that uses a stretchy rubber bag (the bladder) to let the oil contract and expand as it flows through the system. Simple and effective but can split.Bottomless TokensThe RockShox name forvolume spacers. AKA, internally fitted plastic cylinders that are used to adjust how progressive thespring rateof your fork is.Josh Bryceland bottoming out his fork and shock after landing a jump(Image credit: Paul Brett)Bottom outThe behavior of the fork as it reaches full travel. On crude forks the fork can literally slam metal on metal at full stroke. Most forks now use at least a rubber bottom out bumper to soften the blow. You can reduce the likelihood of bottoming out by increasing the air spring pressure or adding morehigh speedcompression damping.Bottom out bumperRubber lump or coil spring that stops metal on metal contact at when your fork bottoms out – aka runs out of travel. See bottom out above for more.Bottom raceNot really part of the fork but as it’s hammered onto the steerer, we’ve included it here. The bottom race sits below the lower headset bearing so it can turn smoothly on. Make sure it’s there, clean and straight when you put your bike together or you won’t be steering well.A post mount brake fixing on a Fox 34 fork(Image credit: Rich Owen)Brake mountAll forks worth having now use ‘post mount’ brakes with two bolted stubs sticking backwards out of the bottom of the left fork leg. Some big forks will only work with 180mm or bigger discs. Some lightweight XC forks are only safe with 180mm or smaller discs.Brake spacerWiggly bar or little cylinder spacers that let you run a bigger rotor than the basic post mount position.Breakaway forceThe amount of load needed to overcome stiction and start the fork moving in its travel.BushingsSmooth rings (generally synthetic but sometimes steel on cheaper forks) in the lower legs that the stanchions slide through as the fork does its thing. Bushings that are too loose will make the fork wobble and potentially jam under braking or cornering. Bushing that are too tight will make the fork feel really sticky and stubborn.Ultimate level RockShox forks come with vibration reducing 'ButterCup' dampers(Image credit: Rich Owen)ButterCupsThis is RockShox' name for small elastomer pucks at the bottom of the damper and spring shafts where they join the lower legs. The idea is that they reduce vibration and make the fork more comfortable and less tiring to ride.CartridgeDamperthat’s self-contained in a sealed cartridge to stop air getting in and giving it indigestion. More complicated than abladderbut generally longer lived.CavitationSudden loss of damper control generally because the suspension is moving too quickly for the oil flow and it forms a vacuum behind the piston. It can also happen if air has got into the damping oil through a leak in the bladder or cartridge.Coil springA steel (or very occasionally titanium) spring in your fork that gives it bounce. Generally gives a smoother, more linear feel than anair spring. Heavier than air though and resistance can’t be tuned (apart from preload adjustment), so you’ll need to swap to a lighter or heavier spring if the stock one doesn’t suit you.CompressionThe shortening of the suspension fork as it absorbs a load.CrownThe bridge between thesteererand thestanchions. Trail and XC forks only have one, but DH forks have two – one above the head tube and one below – for extra stiffness. Crowns are generally trouble-free, but if there’s any creaking coming from your fork, it’s probably from here. Some brands occasionally try carbon crowns for their fanciest XC race forks but they generally go back to alloy as it’s way less hassle to work with and barely any heavier.Crown offsetThe forward offset between the alignment of the stanchions and the steerer. This affects steering feel by changing the amount of ‘trail’ of the fork. I won't get into a trail explanation (we have another feature onMTB geometryfor that), though even I have to double-check what it means and I’ve been writing about this stuff for over a quarter of a century. All you really need to know is that shorter 42mm offset forks are now all the rage, though some bikes still use 51mm.DamperThe actual physical damping system which pushes valved/shimmed/both piston/pistons through oil as the fork moves. This converts the movement energy into heat keeping the fork calm and controlled.DampingControls thecompressionandreboundspeed of the fork so it doesn’t just bounce up and down wildly.Damper shaftThe rod that holds the fork together on the damper side and has all the valves, shims and pistons of the damper (or the damping cartridge) on it.The damping dials on RockShox' latest Charger 3.1 damper. The outer ring controls high speed compression and the inner low speed(Image credit: Rich Owen)Damping dialsLittle clicky dials, with lines and + or – signs on. Generally, blue and black ones are for changing the compression damping, while red ones take care of the rebound. If you’re reading set-up instructions ‘three clicks from closed’ means turn the dial three notches from fully shut.DiveExcessive compression for a given load, particularly in relation to braking loads. You can reduce dive by increasing pressure in the air spring or adding more low speed compression damping.DropoutsThe ends of the fork legs that hold the front wheel in place. Most forks now use a ‘thru axle’ that slides into completely closed bore, but some cheaper forks still use an open slotted dropout for aQR skewerand hub. Fox complicate matters with a floating insert that you clamp into place after aligning the wheel and fork by squishing it up and down a few times. The idea is that it stops the forks being pulled inwards and out of alignment when you do up the axle, but TBH it’s hard to tell if it makes any difference.ElastomerLength of rubbery polyurethane used instead of an air spring or coil spring in early suspension fork models, or cheap ones later. It gets harder in winter and squishier in summer and feels like you’re choking on a sock compared to a proper spring. OK if just used as a top or bottom out bumper though.FrictionResistance to movement (drag) anywhere in the stroke that slows the fork movement down. Generally caused by seals and bushings.High speedThe first important thing to understand is this has nothing to do with the speed you’re riding at. High speed compression is a load that arrives suddenly, compressing the fork very quickly. Think landing a drop or riding into a blunt object or like a dog running into your leg. High speed rebound is the sudden re-extension of the fork after a maximal load. Also seelow speed.HSCStands for High Speed Compression. You'll usually see it stamped on fork-topdamping dials. See high speed above for more.IFPInternal Floating Pistons hang about behind the main damper piston in cartridge dampers. They stop the oil that’s gone through the damping piston mixing with air and getting bubbly and inconsistent. The spring behind the IFP also adds a degree ofbottom outcontrol and helps to push the oil back through the valve. Not all forks have them as they add complexity and cost, but most decent cartridge forks (and shocks) do.Low SpeedAgain this has nothing to do with the speed you’re riding at. Low speed compression is a load that arrives comparatively slowly, compressing the fork gradually. Think pushing the bike hard into a turn, or the suspension compressing as you brake. Low speed rebound is the gradual re-extension of the fork after a smaller load. Also seehigh speed.LSCLow Speed Compression. Like HSC (high speed compression), you'll find LSC stamped on thedamping dialsof higher end forks. See low speed above for more.LinearA fork that has a very consistent spring rate through its stroke and is therefore more likely to use more travel. This suits less aggressive uses like long distance or technical trail riding, where comfort and traction are key.Lock out leverA compression lever that goes all the way to a full lockout of the fork to stop it moving.The lower legs of a Marzocchi Bomber Z1 fork(Image credit: Rich Owen)Lower legsThe bottom part of the fork, normally made from cast magnesium for minimum weight, though you’ll occasionally see some carbon wrapped ones.Negative springSpring that opposes thepositive springand helps the fork start moving.Open bathSimple damper without a bladder or cartridge so the oil sloshes about all over the place inside the fork, lubricating it as well as calming it down. Famously used in earlyMarzocchi Bomberforks that were super fluid and reliable when everything else was uptight and exploded every few weeks. They get inconsistent when the oil mixes with the air though and they sound like an otter orgy.PreloadAdding load to the spring to increase the force needed to start the fork compressing. A bit like increasing thespring rateat the start but in a really crude way. You’ll sometimes still find a ‘preload dial’ on old and/or cheap forks.Positive springThe main spring that supports your weight and re–extends your fork after acompression.Pressure release valvesFancy forks have release valves on the back of the lower legs so you can fart out air pressure that’s built up in the wrong part of the fork on long descents.ProgressionSeeramp up.QR skewerThe QR (quick release) skewer is an ancient design invented by Tullio Campagnolo in 1926. They use a spindly steel rod with a cam closure on one end and a threaded bolt on the other. They loosen to slide in and out of open dropouts so they’re faster to fit and remove. They’re nowhere near as secure or stiff as a connection as athru axlethough, so you’ll only find them on older or cheaper bikes.Remote lockout spoolCable clamp ‘winch’ that takes the place of a manual lever to turn the low speed compression damper to the locked position on forks with a handlebar remote control. This makes the fork less sensitive which can be useful as it gives more support when climbing, sprinting, etc.The rebound knob is located under the right fork leg, on some Fox forks you'll need to remove a cover to get to the adjuster(Image credit: Ryan Simonovich)Rebound adjustersRebound adjusters are often at the bottom end of the fork. Fox hide them under a threaded cover on its forks, while RockShox hides its adjusters up inside the fork leg on their lightweight designs. SID XC race forks use a removable Allen wrench that can also be used to adjust the rebound on the SID rear shock and then left in the pits while you’re racing to minimize weight.ReboundThe extension of the fork as the spring pushes it back after absorbing a load.Ramp upIncrease in spring rate as an air fork compresses towards the end of its stroke. The more ramp up a fork has, the harder it is to get full travel. This suits high impact uses like enduro and DH racing or bike park / jump riding.The red 'O' ring and marked measuring lines make setting suspension sag much easier(Image credit: Ryan Simonovich)SagThe amount the fork compresses when you get on the bike. General advice is to set the fork up so it sags by 20 percent of its travel and then tweak from there as you get more time on it. If using air suspension (most forks do), you'll need ashock pumpto set up your sag.Seal headThe bulge just below thecrownwhere the innerbushingsand sometimes extra seals sit.SealsThe rubber ringpieces that stop dirt getting into your fork’s internals. Thankfully most fork seals are pretty sorted now, but worth cleaning regularly and servicing if they’re looking scuffed or split.The setup chart gives you basic air pressure info for setting your sag, You can usually find more (or at least easier to read) info on the fork manufacturer's website(Image credit: Rich Owen)Set up chartRecommended air pressure figures on a sticker that's usually in a really awkward to read place on the fork that will help with initial setup. I always find RockShox and Fox pressures are about 20 percent too soft for me though.Shaft boltsThe bolts at the bottom of the fork that hold the uppers and lowers together.\\xa0They also stop the lubricating oil pouring out, so if you undo them, have something ready to catch the oil.Shim stackA stack of sprung washers with a slight gap between them (like a Lego Christmas tree) that control oil flow. As the fork compresses the oil is pushed against the shims. The larger the compression force, the more the shims flex back, pressing against the shims behind them and therefore stiffening up the resistance to the oil flow. Changing the size, stiffness or number of shims in the stack changes the damping range.Shock oilThis is the oil that flows back and forth through the damping circuits. It’s designed to handle very high heat loads without changing viscosity so that the fork performance stays consistent on long descents. Shock oil also comes in different ‘weights’ (viscosities) so that you can make the damper faster or slower flowing without altering the physical circuitry.Shock pumpA small, high pressure pump designed for adding air to air sprung forks and shocks. An essential tool if you are running air suspension on your bike.SpikingSudden, jarring resistance to compression. Can be caused by too much high speed compression damping or by binding across loose bushings.The latest RockShox Pike Ultimate's spring cap has been hollowed out to give more negative spring volume for a softer start and top out(Image credit: GuyKesTV)Spring capThe cap that screws into the fork top on the spring side. Can be hollowed out on some forks to increase negative spring volume.Volume spacersgenerally screw into the underside too. They can also have a preload adjuster on coil or elastomer sprung forks. Always depressurize theair springbefore unscrewing the top cap though or it’ll take your face off.Spring shaftThe rod that holds the fork together on the spring side and has the air piston for the air spring or the coil base for the coil spring on it.Spring rateThe amount of weight / pressure needed to compress a coil spring one inch (25mm). Heavier, more aggressive riders will need a heavier spring weight and vice versa.StanchionsThe upper tubes that the lower legs slide up and down on. The skinniest forks use 28mm diameter tubes while the biggest are 40mm. Most are in the 32mm (XC) to 38mm (enduro) range though as that’s a good compromise between stiffness, strength and weight.Fox go fancy with gold Kashima coatings on their Factory forks, but most alloy forks use black. If the legs look chromed they’re probably cheap, steel and very heavy. Whatever they’re made of, look out for scratches and wear marks as they can affect consistent performance by damaging seals or letting oil leak out.Star fangled nutThe little steel sphincter-looking thing that you hammer into the steerer so the headset tightening bolt has something to screw into. Make sure you use a proper fitting tool though as trying to fit it freehand with a hammer is asking for a world of ‘it’s slipped sideways’ pain.The fork steerer runs through the frame's head tube. You can see that it's tapered as the bottom is wider than the top(Image credit: Rich Owen)SteererThe steerer is the tube that sticks into your frame. Really cheap bikes have skinny straight 1.125-inch steerers, but most bikes use a tapered 1.5 – 1.125-in setup for extra stiffness with little extra weight. There are a few e-MTBs using even bigger 1.8in steerers but they’ve not really caught on yet. Some brands occasionally try carbon steerers for their fanciest XC race forks but they generally go back to alloy as it’s way less hassle to work with and barely any heavier.StepA cut out on the inside of the lower legs ofFox ‘Step Cast’ XC race forkslets them use a narrower stance – and therefore narrower, lighter crown and arch – without catching the brake rotor.StictionFriction at the start of the stroke that stops the initial movement of the fork. The effect of this can be reduced by the negative spring.StrokeThe telescopic movement of the suspension through it’s travel.The lever of a thru axle on a Fox 34 fork. Many forks have lever-less designs which need an Allen key for removal(Image credit: Rich Owen)Thru axleHollow axle for the front hub in either 15mm (XC, trail, enduro forks) or 20mm (DH, bike park forks) diameter. Most designs simply screw into the fork and come in simple bolted or cam axle formats. Suntour’s Q-Loc uses an expanding rose joint to secure the axle whichever side you slide it in. This is really clever until it gets dirty and then it’s not clever at all. Not sure why anybody shortened through axle to thru axle, but it’s kind of stuck and I hope they got the ‘o’ and ‘g’ keys fixed on their keyboard eventually.Top outThe behavior of the fork as it reaches full extension. It’s rarely an issue on more expensive forks but some cheap forks can give a real clunk or clang if they rebound as you launch a jump or pull the front of the bike up in a wheelie or manual. Unfortunately, they’re unlikely to have the rebound damping adjustment to solve it.Top out bumperRubber lump or coil spring that stops metal on metal contact at top out (see above).Transfer portSmall blip on the side of the air spring that farts air from the positive to the negative spring as the piston passes it, automatically balancing the pressures. Not all forks have them but if they do, then you need to compress the fork past the transfer port regularly when setting them up. Otherwise, they’ll feel super stiff to start and then too soft when you hit the first bump and everything equalizes.TravelThe maximum vertical movement of the fork. Longer travel means your fork can eat up bigger hits without barfing control or breaking your wrists, but that also means more weight. That’s why downhill forks run 200-220mm of travel, but lightweight cross-country forks run 100-120mm.Travel adjustThe ability to change the travel of the fork. Externally adjustable travel (normally with a windy knob) used to be a common feature on forks, but now adjustment normally involves internal fettling. Sometimes simple, sometimes needing a whole new spring shaft. Check the manual to check the misery level involved before you start plotting.Travel ringRubber ‘O’ ring on the stanchion that gets pushed up towards the crown as the fork moves, letting you know how much travel you’ve used.Valve headThe piston head on the damper shaft the damping oil flows through. Flow rates can be changed by altering the size of the holes (orifices if you’re being fancy) the oil travels through as the piston is pushed through the oil.VolumeThe capacity of a damper chamber or air spring. The larger the volume of the air spring, the more linear the fork is likely to feel. The smaller the volume the more progressive it will feel.Volume spacersPlastic cylinders that take up space in the air spring. By reducing the volume of the spring it becomes more progressive, so the fork uses less stroke for a given impact force. So if your fork is feeling good but bottoming out too easily add more spacers. If it’s not using all it’s travel at least once per ride then check how many spacers are already installed and take them out.Tokens or spacers thread onto the underside of the airspring capto adjust the how progressive your fork feels(Image credit: Rich Owen)WTF ManitouManitou was one of the original MTB suspension brands, releasing their first fork in 1990 and they’ve done things differently ever since. This includes coloring their compression dampers red and their rebound dials blue and using reverse arches for most of their history. They also stuck doggedly to post mount brake fixtures for decades while everyone else went to ‘International Standard’ mounts. Everyone is back on post mount though so they won that one in the end.\"), Document(metadata={'source': 'https://www.choosemybicycle.com/en/woc/suspension-fork-everything-you-need-to-know-about-a-bicycle-suspension'}, page_content='Adding a suspension to a Bicycle is always a trade-off. You get increased comfort and control, but it adds weight and complexity, and it can make the bicycle pedal less efficiently.That said, modern suspensions are efficient enough, lightweight enough, and reliable enough that, for many people, the benefits of suspension outweigh the downsides.Weight/MaintenanceThe weight and complexity issues are fairly straightforward with more shocks, pivots, and bits of linkage you have on a Bicycle, the harder it will be to keep the weight down. Those pivots and shocks also require regular maintenance to keep everything running smoothly, so that’s just one more thing you have to pay attention to.Efficiency/InefficiencyThe efficiency issue largely has to do with travel in the suspension always working. With most frame designs, force on the drivetrain will have some effect on the suspension. Basically, when you mash on the pedals, part of your power is going into making the bicycle go forward, and part of it goes into making the suspension compress. Generally speaking, this is not a good thing—you want all of your power going into making the bicycle move forward.'), Document(metadata={'source': 'https://outdoorlabwithj.com/suspension-fork-what-you-need-to-know/'}, page_content='As a passionate mountain biker, I know the importance of having a smooth and comfortable ride. One of the key components that can make a significant difference is thesuspension fork.Suspension forksabsorb the impact of rough terrain and provide better control over the bike. In this article, we will dive into what you need to know aboutsuspension forksformountain bikes.\\n\\nFirstly, let’s understand the basics. Amountain bikehas a suspension system on the front and/or rear wheel(s) that allows the bike to absorb shock when traveling over rough terrain. Thesuspension forkis located on thefront wheel, and it plays a crucial role in enhancing the bike’s performance and providing a smoother ride.\\n\\nThere are different types ofmountain bikesdesigned for various riding styles, such as downhill, cross-country, and trail riding. Depending on the type of riding you prefer, you can choose from varioussuspension forksto suit your needs. In the next section, we will explore the different types of suspension forks available.Key Takeaways:Suspension forks are crucial for enhancing bike performance and providing a smoother rideMountain bikeshave a suspension system on the front and/or rear wheel(s)There are different types of mountain bikes designed for various riding stylesTypes of Suspension Forks for Mountain BikesWhen it comes to suspension forks for mountain bikes, there are two main types to consider: coil-sprung and air-sprung. Coil-sprung forks rely on ametal coil springto absorb impacts, while air-sprung forks use compressed air. Both types have their advantages and disadvantages, so it’s important to consider your individual needs and preferences before making a decision.\\n\\nAnother important factor to consider is thewheel axle. Some forks are designed for traditional quick-release axles, while others use through-axles, which provide increased stiffness and stability. Your bike’s frame will also play a role in determining which fork is right for you.Rebound dampingis another crucial element of suspension forks. This refers to the fork’s ability to extend back to its original position after compressing. Properrebound dampingensures a smooth ride and prevents the fork from bouncing back too quickly. Ashock pumpcan be used to adjust the amount of air or oil in the system to achieve the desiredrebound damping.Pros of Coil-Sprung ForksPros of Air-Sprung ForksMore affordableLighter weightConsistent performanceAdjustable stiffnessMore durableMore sensitive to small bumpsUltimately, theright suspension forkfor yourmountain bikewill depend on a variety of factors, including the type of riding you do, your bike’s frame, and your personal preferences. With so many options available, it’s important to do your research and consider all of your options before making a final decision.Choosing the Right Suspension Fork for Your BikeWhen choosing asuspension forkfor yourmountain bike, it’s important to consider the type of riding you’ll be doing. For example, if you’re into downhill biking, a fork that compresses easily withlow-speed compressionis ideal. On the other hand, if you’re into cross-country riding, a fork withair springandlow-speed compressionwill offer better performance.\\n\\nAnother factor to consider is your bike’s frame.Not all suspension forksare suitable for all frames, so it’s important to ensure compatibility before making a purchase. A fork that’s too stiff or too soft for your frame can negatively impact your bike’s performance.\\n\\nAir springs are becoming increasingly popular in suspension forks as they are lightweight and offer superior performance compared tocoil springs. They are also easier to adjust, allowing you to fine-tune your fork’s performance for different types of riding.Low-speed compressionis another important feature to consider when choosing a suspension fork. This setting controls the rate at which thefork compresses, and can be adjusted to suit your riding style and terrain.\\n\\nUltimately, theright suspension forkfor your bike will depend on your individual needs and preferences. Take the time to research and test different options to find the one that provides the best performance and comfort for your riding style.Maintaining Your Suspension ForkProper maintenance of your suspension fork is essential for optimal performance and longevity. One of the key aspects of maintenance is adjusting thefork travel, which refers to the distance thefork compresseswhen you hit a bump or obstacle while riding.\\n\\nIt’s important to adjust thefork travelto match your riding style and the terrain you’ll be riding on. A general rule of thumb is to set the travel to about 25-30% of the fork’s total length. For example, if your fork has a total length of 100mm, you should set the travel to around 25-30mm.Bike suspensionsystems, including suspension forks, are designed to work best when properly lubricated and clean. Dirt and grime can build up on the fork stanchions and negatively impact performance. Regular cleaning and lubrication will help keep your fork operating smoothly and prevent unnecessary wear and tear.\\n\\nWhen it comes toair suspensionforks, be sure to check theair pressureregularly and adjust it as needed. A good starting point is to set the pressure according to the manufacturer’s recommendations based on your weight and riding preferences. Keep in mind that higher pressure generally results in a stiffer ride while lower pressure can make the fork feel more plush.\\n\\nLastly, consider investing in alighter weight forkif you’re looking to improve performance. A lighter fork can reduce overall bike weight and provide a more responsive ride. However, keep in mind that lighter weight forks tend to be more expensive.Upgrading Your Suspension ForkModern mountain bikesare compatible with a range of suspension forks, butnot all suspension forksare equal. If you’re looking to upgrade yourbicycle fork, there are a few things to keep in mind.\\n\\nFirstly, consider the compatibility of thenew suspension forkwith yourrear shock. It’s important to ensure that they work together in harmony for optimal performance. Secondly, adjustingair pressurecan greatly enhance the performance of your suspension fork. Be sure to consult the manufacturer’s instructions for specific guidance on recommendedair pressure.\\n\\nLastly, keep in mind that expensive doesn’t always mean better. It’s possible to find a great suspension fork without breaking the bank. Look for features such as low-speed compression and rebound damping, which can greatly improve ride quality without the added cost.The Role of Compression DampingWhen it comes to suspension forks,compression dampingplays a crucial role in ensuring a smooth ride on your mountain bike.Compression dampingrefers to the resistance of the suspension fork when it compresses, which affects how the bike handles impacts and bumps.Coil springsuspension forks generally have pre-setcompression damping, whereasair suspensionforks allow for more adjustability. Adjusting compression damping can make a significant difference in the performance of yourMTB fork, particularly for downhill biking.\\n\\nIn essence, compression damping is about controlling the rate at which thefork compresses. It is the mechanism that slows down the fork and helps you to maintain control on rough terrain. A fork without compression damping can feel like a pogo stick, bouncing uncontrollably.Downhill forksgenerally have more compression damping than cross-country forks, as they need to handle larger impacts at higher speeds. However, finding the right balance of compression damping is crucial, as too much can lead to a harsh feel and a loss of traction.\\n\\nUltimately, understanding compression damping is vital for getting the most out of yourMTB fork. Whether you are riding downhill, cross-country, or enduro, adjusting compression damping can help you to find the sweet spot for maximum control, comfort, and performance.Suspension Forks for Different Bike TypesAs we’ve discussed, suspension forks are an essential component for improving your bike’s performance and getting the smoothest ride possible. However, when it comes to selecting theright suspension forkfor your bike type, it can get a bit tricky.\\n\\nFortrail bikes, investing in moreexpensive forkscan provide significant benefits in terms of damping and adjustability.High-speed compressionsettings are also essential to consider as they can help with control on fast descents.\\n\\nOn the other hand, rigid forks, while not providing suspension, offer an affordable and lightweight option for those who prefer smoother terrains and a more natural-feeling ride.\\n\\nWhen it comes todownhill bikes, there’s no doubt that suspension plays a crucial role. However,not all suspension forksare created equal for this specific type of biking.Downhill forksoften come withcoil springs, providing the durability and adjustability needed for extreme riding conditions.\\n\\nUltimately, it’s essential to consider your bike type and individual riding style when choosing a suspension fork. Spending time researching and testing out different forks can help you find the perfect fit for your bike and ensure maximum performance.So remember, choosing the right suspension fork for your bike can make all the difference in getting the most out of your ride.Understanding Suspension Fork TerminologyWhen it comes to suspension forks, understanding the terminology is key to making informed decisions. Here are some common terms you should know:TermDefinitionRight suspension forkA suspension fork designed for the specific geometry of abike frame. Using the correct right suspension fork can greatly improve the performance and comfort of your ride.Rear suspensionArear suspensionsystem, such as a shock absorber, can work in conjunction with a front suspension fork to provide a smoother ride over rough terrain.Metal coil springA type of suspension fork that uses a metal coil to compress and absorb shock. These can be heavier than other types of suspension forks and may require more maintenance.New suspension forkIf your current suspension fork is not performing as well as it once was, upgrading to anew suspension forkcan greatly improve your ride experience. Make sure to choose the right type for your bike and riding style.By familiarizing yourself with these common suspension fork terms, you can make more informed decisions about which fork is right for you and your bike.Suspension Forks and Gravel BikesGravel bikesandmost mountain bikeshave some key differences when it comes tofork crownheight, which can affect the type of suspension fork that’s suitable for each. In general,gravel bikeshave a lowerfork crownheight thanmost mountain bikes. This is because the lower height allows for better stability and handling on rough terrain, which is the main purpose of a gravel bike.\\n\\nHowever, it’s important to note that not allgravel bikesare created equal, and some models may have a higherfork crownheight than others. If you’re considering using a suspension fork with your gravel bike, make sure to research the recommended fork crown height for your specific model.\\n\\nAnother factor to consider is whether to use a full suspension fork or arigid forkon your gravel bike. While a full suspension fork can provide a smoother ride on rough terrain, it can also add weight and decrease pedaling efficiency. Arigid fork, on the other hand, will be lighter and more efficient but won’t absorb as much shock as a suspension fork. Ultimately, the choice will depend on your personal preferences and the type of terrain you’ll be riding on.How to Install a Suspension ForkInstalling a new suspension fork on your mountain bike can seem daunting, but with the right tools and some basic knowledge, it is a straightforward process. Here’s a step-by-step guide on how to install a suspension fork.Step 1: Remove the Old ForkThe first step is to remove the old fork. Start by loosening the stem bolts using an Allen wrench. Once the stem bolts are loose, remove the stem and handlebars from the forksteerer tube. Then, remove the brake caliper from the fork.Step 2: Prepare the New ForkNext, you need to prepare thenew fork. Measure and cut thesteerer tubeof thenew forkto the same length as the old fork. Then, install the crown race at the bottom of thesteerer tube. Finally, install the star nut at the top of the steerer tube by tapping it gently into place using a hammer and a star nut setter tool.Step 3: Install the New ForkNow, it’s time to install thenew fork. Slide the new fork into the head tube and steerer tube of thebike frame. Tighten the headset cap onto the top of the steerer tube using a wrench. Then, reinstall the stem and handlebars onto the steerer tube and tighten the stem bolts. Finally, reinstall the brake caliper onto the fork and tighten the bolts.Step 4: Adjust the ForkOnce the new fork is installed, you’ll need to adjust it to fit your riding style and weight. Start by setting the sag, or the amount of compression in the fork when you sit on the bike. Adjust the rebound damping and compression damping settings to suit your preferences. Additionally, make sure the air pressure in the fork is at the recommended level for your weight and riding style.\\n\\nRemember, when choosing a new fork, ensure that it has atapered steererand is compatible with yourbike frame. Also, be aware that installing a new fork may require additional tools and a certain level of mechanical know-how. If you’re unsure about the process, it’s always best to consult a professional mechanic.Why is Understanding Suspension Important for Mountain Bikers?Understanding suspension is crucial for mountain bikers because it directly affects their overall riding experience. Knowinghow mountain bike suspension worksallows riders to make informed decisions about their equipment, optimize performance, and enhance safety. Suspension plays a vital role in absorbing impacts, maintaining traction, and improving control on challenging terrains, making it an essential aspect of mountain biking.Tips for Adjusting Your Suspension ForkIf you want to get the most out of your mountain bike, it’s important to understand how to adjust your suspension fork. Here are some tips to optimize your bike’s performance:Air PressureThe first step in adjusting your suspension fork is to set the air pressure to the appropriate level. This will vary depending on your weight, riding style, and the type of fork you have. Generally, the more air pressure you have, the more firm your ride will be. Conversely, if you have too little air pressure, your bike will feel sluggish and unresponsive.Compression DampingCompression damping controls how quickly your fork compresses when you hit a bump. If you have too much compression damping, your bike will feel stiff and unresponsive. On the other hand, if you have too little compression damping, your bike will bottom out easily. Finding the right balance is key to a smooth and comfortable ride.Rebound DampingRebound damping controls how quickly your fork rebounds after hitting a bump. If you have too much rebound damping, your fork will feel like it is packing down, which can lead to a rough and uncomfortable ride. However, if you have too little rebound damping, your fork will feel too bouncy and uncontrolled.MTB ForkWhen adjusting your suspension fork, it’s important to keep in mind that different types of MTB forks will require different settings. For example, a downhill fork will need more compression damping than a cross country fork. Likewise, a fork with more travel will require a different air pressure setting than one with less travel.\\n\\nBy adjusting your air pressure, compression damping, and rebound damping, you can fine-tune your suspension to suit your riding style and the type of terrain you’ll be riding on.ConclusionUnderstanding suspension forks is essential for any bike enthusiast looking to enhance their performance and experience a smoother ride. Suspension forks come in a variety of types, each suited for different types of biking. When selecting a suspension fork, factors such as bike frame and riding style should be considered to ensure the right fit.\\n\\nMaintaining and caring for your suspension fork is just as important as selecting the right one. Adjusting suspension settings such as air pressure and compression damping can optimize performance, while regular cleaning and lubrication can extend the life of your fork.\\n\\nUpgrading your suspension fork can also be a worthwhile investment, but compatibility should always be considered. Suspension forks can also be installed with relative ease, provided proper attention is paid to thetapered steererand other factors.\\n\\nBy understanding suspension fork terminology, adjusting settings to your needs, and selecting the right fork for your bike, you can unlock the full potential of your mountain biking experience. So, whether you’re hitting the trails or cruising on gravel, make sure to prioritize your suspension forks and enjoy the ride.FAQQ: What is the purpose of a suspension fork on a mountain bike?A: A suspension fork absorbs bumps and impacts, allowing for a smoother and more controlled ride on rough terrain.Q: What are the different types of suspension forks available for mountain bikes?A: There are two main types: coil-sprung forks and air-sprung forks. Coil-sprung forks use ametal coil springto provide suspension, while air-sprung forks use air pressure.Q: How do rebound damping and shock pumps affect suspension forks?A: Rebound damping controls how quickly the fork returns to its extended position after compressing, and ashock pumpis used to adjust the air pressure in air-sprung forks for optimal performance.Q: What factors should I consider when choosing a suspension fork for my bike?A: Factors to consider include the type of riding you do, such as downhill biking or trail riding, the compatibility of the fork with your bike frame, and the benefits of features like air springs and low-speed compression settings.Q: How do I maintain a suspension fork?A: Maintenance includes adjustingfork travel, cleaning and lubricating the suspension system, and considering the advantages of alighter weight fork.Q: Can I upgrade my suspension fork?A: Yes, but it’s important to consider the compatibility ofmodern mountain bikeswith different forks, the importance ofrear shockcompatibility, and the benefits of adjusting air pressure for optimal performance.Q: What is the role of compression damping in suspension forks?A: Compression damping affects how the fork compresses under impact, and it is particularly important for downhill biking.Q: Are there different suspension fork options for different types of bikes?A: Yes, moreexpensive forksare often recommended fortrail bikes,high-speed compressionsettings can be beneficial, and there are advantages and limitations to using rigid forks.Q: What suspension fork terminology should I be familiar with?A: Terms like right suspension fork,rear suspension, and metalcoil springare important to understand, and considering a new suspension fork can have benefits for your bike.Q: How do suspension forks and gravel bikes relate?A: Gravel bikes and mountain bikes have differences in fork crown height, and using a full suspension fork for gravel biking has both advantages and disadvantages.Q: How do I install a suspension fork?A: Follow a step-by-step guide, ensuring you have atapered steererand understanding the differences betweenfront forksand rear shocks.Q: What tips can you provide for adjusting a suspension fork?A: Consider the recommended air pressure, understand the role of compression and rebound damping, and follow advice specific to your type of mountain bike fork.')]\n"
     ]
    }
   ],
   "execution_count": 12
  },
  {
   "metadata": {
    "ExecuteTime": {
     "end_time": "2025-01-18T18:34:00.996230Z",
     "start_time": "2025-01-18T18:33:45.232452Z"
    }
   },
   "cell_type": "code",
   "source": [
    "from sentence_transformers import SentenceTransformer\n",
    "\n",
    "# Load the embedding model\n",
    "model = SentenceTransformer('sentence-transformers/all-MiniLM-L6-v2')"
   ],
   "id": "ad8786da34d7fb45",
   "outputs": [],
   "execution_count": 5
  },
  {
   "metadata": {
    "ExecuteTime": {
     "end_time": "2025-01-18T18:44:30.385266Z",
     "start_time": "2025-01-18T18:44:28.656296Z"
    }
   },
   "cell_type": "code",
   "source": [
    "from langchain.text_splitter import RecursiveCharacterTextSplitter\n",
    "from sentence_transformers import SentenceTransformer, util as st_utils\n",
    "from sentence_transformers.util import cos_sim\n",
    "\n",
    "def text_splitter(documents):\n",
    "    # Initialize the text splitter\n",
    "    text_splitter = RecursiveCharacterTextSplitter(chunk_size=512, chunk_overlap=50, add_start_index=True)\n",
    "\n",
    "    # Split the documents into chunks\n",
    "    all_splits = text_splitter.split_documents(documents)\n",
    "    \n",
    "    # Add a unique ID to each split\n",
    "    for split in all_splits:\n",
    "        unique_id = str(uuid.uuid4())  # Generate a unique ID for each split\n",
    "        split.metadata[\"id\"] = unique_id  # Add the unique ID to the split's metadata\n",
    "    \n",
    "    return all_splits\n",
    "\n",
    "\n",
    "def relevant_context(all_splits, query):\n",
    "\n",
    "\n",
    "    # Embed the chunks using model\n",
    "    embeddings = [\n",
    "        {\n",
    "            \"metadata\": doc.metadata,\n",
    "            \"embedding\": model.encode(doc.page_content, convert_to_tensor=True)\n",
    "        }\n",
    "        for doc in all_splits\n",
    "    ]\n",
    "    \n",
    "    # Embed the query\n",
    "    query_embedding = model.encode(query, convert_to_tensor=True)\n",
    "\n",
    "    # Compute cosine similarity\n",
    "    results = []\n",
    "    for entry in embeddings:\n",
    "        score = cos_sim(query_embedding, entry[\"embedding\"]).item()\n",
    "        results.append({\"metadata\": entry[\"metadata\"], \"score\": score})\n",
    "\n",
    "    # Sort results by score in descending order\n",
    "    sorted_results = sorted(results, key=lambda x: x['score'], reverse=True)\n",
    "\n",
    "    # Access top 5 results and their content\n",
    "    top_5_results = sorted_results[:5]\n",
    "    for i, result in enumerate(top_5_results, start=1):\n",
    "        # Extract the start_index from metadata\n",
    "        start_index = result['metadata'].get('start_index', None)\n",
    "        if start_index is not None:\n",
    "            # Find matching content\n",
    "            content = [\n",
    "                doc.page_content for doc in all_splits\n",
    "                if doc.metadata.get('start_index') == start_index\n",
    "            ]\n",
    "        else:\n",
    "            content = [\"context not found\"]\n",
    "\n",
    "        # Print the result\n",
    "        print(f\"Top {i} Document:\")\n",
    "        print(\"Score:\", result['score'])\n",
    "        print(\"content:\", content)\n",
    "        print(\"metadata:\", result['metadata'])\n",
    "        print()\n",
    "        \n",
    "        \n",
    "all_splits = text_splitter(documents)       \n",
    "relevant_context(all_splits, \"suspension forks purpose on a bike\")\n"
   ],
   "id": "6b57c683c99bb68d",
   "outputs": [
    {
     "name": "stdout",
     "output_type": "stream",
     "text": [
      "Top 1 Document:\n",
      "Score: 0.7459707260131836\n",
      "content: ['By adjusting your air pressure, compression damping, and rebound damping, you can fine-tune your suspension to suit your riding style and the type of terrain you’ll be riding on.ConclusionUnderstanding suspension forks is essential for any bike enthusiast looking to enhance their performance and experience a smoother ride. Suspension forks come in a variety of types, each suited for different types of biking. When selecting a suspension fork, factors such as bike frame and riding style should be considered']\n",
      "metadata: {'source': 'https://outdoorlabwithj.com/suspension-fork-what-you-need-to-know/', 'start_index': 15657, 'id': '75b57e95-5d16-439c-aaeb-190206514551'}\n",
      "\n",
      "Top 2 Document:\n",
      "Score: 0.7111109495162964\n",
      "content: ['Another important factor to consider is thewheel axle. Some forks are designed for traditional quick-release axles, while others use through-axles, which provide increased stiffness and stability. Your bike’s frame will also play a role in determining which fork is right for you.Rebound dampingis another crucial element of suspension forks. This refers to the fork’s ability to extend back to its original position after compressing. Properrebound dampingensures a smooth ride and prevents the fork from']\n",
      "metadata: {'source': 'https://outdoorlabwithj.com/suspension-fork-what-you-need-to-know/', 'start_index': 1692, 'id': '0334ecb3-f582-4c01-9a18-070b9c3315a5'}\n",
      "\n",
      "Top 3 Document:\n",
      "Score: 0.6759377717971802\n",
      "content: [\"Mountain bike suspension has a whole language of its own, and some of it seems to make no sense at all. Learn how to talk fork with our experts though and you’ll know what everything in your front suspension is called and what it does. We’ve also included the common descriptors of fork performance and problems, complete with advice on how to adjust your fork so it rides perfectly for you.You can navigate your way through the terms using the side navigation, we've also linked the explanations where relevant,\", 'Adding a suspension to a Bicycle is always a trade-off. You get increased comfort and control, but it adds weight and complexity, and it can make the bicycle pedal less efficiently.That said, modern suspensions are efficient enough, lightweight enough, and reliable enough that, for many people, the benefits of suspension outweigh the downsides.Weight/MaintenanceThe weight and complexity issues are fairly straightforward with more shocks, pivots, and bits of linkage you have on a Bicycle, the harder it will', 'As a passionate mountain biker, I know the importance of having a smooth and comfortable ride. One of the key components that can make a significant difference is thesuspension fork.Suspension forksabsorb the impact of rough terrain and provide better control over the bike. In this article, we will dive into what you need to know aboutsuspension forksformountain bikes.']\n",
      "metadata: {'source': 'https://outdoorlabwithj.com/suspension-fork-what-you-need-to-know/', 'start_index': 0, 'id': '2460a0a6-1cbe-4771-80d6-90a6fa8940d0'}\n",
      "\n",
      "Top 4 Document:\n",
      "Score: 0.6668187975883484\n",
      "content: ['By understanding suspension fork terminology, adjusting settings to your needs, and selecting the right fork for your bike, you can unlock the full potential of your mountain biking experience. So, whether you’re hitting the trails or cruising on gravel, make sure to prioritize your suspension forks and enjoy the ride.FAQQ: What is the purpose of a suspension fork on a mountain bike?A: A suspension fork absorbs bumps and impacts, allowing for a smoother and more controlled ride on rough terrain.Q: What are']\n",
      "metadata: {'source': 'https://outdoorlabwithj.com/suspension-fork-what-you-need-to-know/', 'start_index': 16716, 'id': 'b64b41ae-b66c-43f2-94aa-a33ac4dcae7a'}\n",
      "\n",
      "Top 5 Document:\n",
      "Score: 0.6613800525665283\n",
      "content: ['Remember, when choosing a new fork, ensure that it has atapered steererand is compatible with yourbike frame. Also, be aware that installing a new fork may require additional tools and a certain level of mechanical know-how. If you’re unsure about the process, it’s always best to consult a professional mechanic.Why is Understanding Suspension Important for Mountain Bikers?Understanding suspension is crucial for mountain bikers because it directly affects their overall riding experience. Knowinghow mountain']\n",
      "metadata: {'source': 'https://outdoorlabwithj.com/suspension-fork-what-you-need-to-know/', 'start_index': 13247, 'id': 'eb28ad46-0db4-4aa9-91e6-6033d6183db2'}\n",
      "\n"
     ]
    }
   ],
   "execution_count": 14
  },
  {
   "metadata": {},
   "cell_type": "code",
   "source": [
    "# Combine the functions to retrieve context docs\n",
    "def retrieve_context_docs(query):\n",
    "    links = link_scrape(query)\n",
    "    combined_text = web_scrape(links, max_texts=3)\n",
    "    relevant_context(combined_text, query)\n",
    "\n",
    "\n",
    "query = \"santos bike park amenities\"\n",
    "\n",
    "retrieve_context_docs(query)"
   ],
   "id": "f58cd198831617cb",
   "outputs": [],
   "execution_count": null
  },
  {
   "metadata": {
    "ExecuteTime": {
     "end_time": "2025-01-17T19:41:06.523843Z",
     "start_time": "2025-01-17T19:41:06.521028Z"
    }
   },
   "cell_type": "code",
   "source": "print(all_splits)",
   "id": "2cff357814b6c77b",
   "outputs": [
    {
     "name": "stdout",
     "output_type": "stream",
     "text": [
      "[Document(metadata={'source': 'https://www.floridastateparks.org/parks-and-trails/santos-trailhead-campground', 'id': 'fa6b57a0-fad9-4385-97a5-3191dc18642b', 'start_index': 0}, page_content='Welcome to Santos Trailhead & CampgroundExplore some of the best mountain biking in Florida and even internationally.Santos\\xa0includes 80-plus\\xa0miles of single-track diverse bike trails\\xa0for beginners as well as expert-level trails that will challenge even\\xa0the most elite riders.Developed and maintained through a partnership with the volunteer-based\\xa0Ocala Mountain Bike Association, Santos is perennially rated as one of the best mountain bike facilities in existence. Numerous wooden features\\xa0and the Vortex'), Document(metadata={'source': 'https://www.floridastateparks.org/parks-and-trails/santos-trailhead-campground', 'id': '6012daf8-5f2d-4842-9f97-792ad7341c4c', 'start_index': 466}, page_content='Numerous wooden features\\xa0and the Vortex Freeride area located in a former limerock quarry provide extreme terrain in the flatlands of Florida.Annually, in\\xa0the first weekend in March, OMBA hosts the Santos Fat Tire Festival at the trailhead and campground. It\\xa0draws all of the top MTB manufacturers for the vendor village, demo rides and\\xa0over 400 registered participants who enjoy organized trail rides and related events. It sells out every year quickly, so make sure to sign up as soon as it is announced.The'), Document(metadata={'source': 'https://www.floridastateparks.org/parks-and-trails/santos-trailhead-campground', 'id': 'edb821ea-2a16-453b-acfa-82f363772bee', 'start_index': 929}, page_content='sure to sign up as soon as it is announced.The Santos Trailhead has restrooms, potable water, a bike wash rack, and several picnic pavilions\\xa0for relaxing\\xa0and telling stories of “the ride.\" There are also several bike shops located very close to the trailhead for needed supplies, repairs or refreshments.The trailhead and campground are located just west off\\xa0U.S. 441 on Southeast\\xa080th Street\\xa0between Ocala and Belleview, across from the Marion County Sheriff’s Santos Station.Also available at the Santos'), Document(metadata={'source': 'https://www.floridastateparks.org/parks-and-trails/santos-trailhead-campground', 'id': '7a927bdd-490e-46fa-8352-3697991aee6e', 'start_index': 1391}, page_content='Santos Station.Also available at the Santos Trailhead is access to the Cross Florida Greenway’s extensive equestrian trail network, with 60-plus miles of horse trails, including varying levels of difficulty and wagon/carriage opportunities.TheFlorida National Scenic Trailhiking trail also traverses through the Santos Trailhead and runs westward to Dunnellon from Santos for approximately 24 miles and eastward 10-plus\\xa0miles before entering the Ocala National Forest.As one of only 11 National Scenic Trails'), Document(metadata={'source': 'https://www.floridastateparks.org/parks-and-trails/santos-trailhead-campground', 'id': 'ae01960b-f3f4-4db8-bfd2-3f4fe49feb00', 'start_index': 1852}, page_content='Forest.As one of only 11 National Scenic Trails nationwide (including the Pacific Crest Trail and Appalachian Trail), this congressionally designated trail crosses approximately 1,300 miles through diverse ecological communities throughout Florida, from the Gulf National Seashore near Pensacola Beach to theFakahatchee Strandin southwest Florida.The segment from Santos west to Dunnellon goes through and along several of the historic sea-level Cross Florida Ship Canal project diggings with 40-plus-foot berms'), Document(metadata={'source': 'https://www.floridastateparks.org/parks-and-trails/santos-trailhead-campground', 'id': '90a48da5-b217-4439-a723-ef28c27816c7', 'start_index': 2317}, page_content='Canal project diggings with 40-plus-foot berms running from 0.25 to 2 miles long.Adjacent to the Santos Trailhead and its diverse trail offerings is the Santos Campground,\\xa0available year-round for overnight trips.\\xa0The campground features 23 sites equipped with water and electric hookups and an onsite\\xa0dump station. For reservations, visit the Florida State Parksreservations websiteor call 800-326-3521 or TDD 888-433-0287.'), Document(metadata={'source': 'https://floridahikes.com/santos-trails/', 'id': 'bbc3266e-c4da-4c81-8652-c978ae0c3665', 'start_index': 0}, page_content='For off-road cycling, there is no better destination in Florida than the intricate web of technical bike trails built at Santos along the Cross Florida Greenway by the Ocala Mountain Bike Association.You’ll never be bored riding here. Coded for difficulty, the trail system offers unending ways to loop through the forest using inner loops and cross-paths that span across two primary loops, at Santos and “The Other Side,” now known as Vortex.John returns from looping around the Santos TrailsThese trails, in'), Document(metadata={'source': 'https://floridahikes.com/santos-trails/', 'id': 'b21c795d-70c6-4d53-a580-710891b81677', 'start_index': 462}, page_content='looping around the Santos TrailsThese trails, in turn, hook up to a greater network of singletrack that stretches across the Greenway all the way to the Pruitt trailhead near Dunnellon.From our own rides and reconnaissance plus reading the OMBA map for the Santos-Vortex area, we estimate about 20 miles of tightly twisted singletrack (and a tiny amount of doubletrack) inside the two beginner loops in this part of the Cross Florida Greenway between SE 80th Street and SE 95th Street.ResourcesResources for'), Document(metadata={'source': 'https://floridahikes.com/santos-trails/', 'id': '9f69cabb-2d59-4e2c-bdff-03de9f0ca4b2', 'start_index': 921}, page_content='Street and SE 95th Street.ResourcesResources for exploring the areaDisclosure: As authors and affiliates, we receive earnings when you buy through our links. This helps us provide public information on this website.OverviewLocation: OcalaLength: Roughly 20-mile trail network connecting to 80+ milesTrailhead: 29.1052,-82.0951Address: 3080 SE 80th St, OcalaFees: FreeRestroom: At Santos TrailheadLand Manager: Florida State ParksPhone: 352-236-7143Open 8 AM until sunset daily. Helmets are required for all'), Document(metadata={'source': 'https://floridahikes.com/santos-trails/', 'id': 'b5535231-9c33-4494-bd22-b30ce1a9b613', 'start_index': 1379}, page_content='until sunset daily. Helmets are required for all riders.A picnic area and bike wash stations are at the trailhead.  Restrooms are down a short path to the hiking trailhead. The Santos Campground adjoins that trailhead, and makes a nice base camp for exploring these trails.Bike wash and picnic pavilion at the Santos TrailheadUse caution that you don’t ride right up on a slower rider or pedestrian. Cyclists of all experience levels use these trails, and the bike paths are also open to hikers.As with all'), Document(metadata={'source': 'https://floridahikes.com/santos-trails/', 'id': '718e8524-7a59-4d41-9b60-1d363e1ca6b2', 'start_index': 1839}, page_content='bike paths are also open to hikers.As with all off-road trails, avoid riding after heavy rains so as to not damage the trail surface, especially at the Vortex Dirt Jumps and the Santos Pump Track.DirectionsThe trailhead is just west of US 27/301/441 in Santos – halfway between Ocala and Belleview – along SE 80th Street. Skip the first turn-in at the campground and continue past Greenway Cycle to the second entrance on the left. The long entrance road snakes back to the parking area adjoining the Santos'), Document(metadata={'source': 'https://floridahikes.com/santos-trails/', 'id': '3934fa2e-44a7-4455-b16d-24e8dcdffa53', 'start_index': 2301}, page_content='back to the parking area adjoining the Santos Trails entrance and the skills area.If you plan to focus on riding the Vortex section, there is a secondary trailhead that provides direct access to it. To find it, pass by the Santos trailhead entrances and continue up to SE 25th Ave. Turn left. After the road becomes canopied when you enter the Greenway, look for a sign directing you to the right for the Vortex trailhead.RideThe trail system at Santos is designed in a series of concentric loops. The deeper'), Document(metadata={'source': 'https://floridahikes.com/santos-trails/', 'id': '4898b752-5da9-4c81-a76d-cb6051d2cda1', 'start_index': 2766}, page_content='in a series of concentric loops. The deeper into the loops you go, the tougher the trails are. This is largely due to the terrain of this area.Limestone pits used long ago as local quarries, as well as natural sinkholes – many with surface limestone and some with caves in them – provide the unexpected changes in terrain and rugged surfaces on the difficult trails.Limestone boulders along the Sinkhole TrailTrails should be generally ridden clockwise. The singletrack is narrow in many places, and some spots'), Document(metadata={'source': 'https://floridahikes.com/santos-trails/', 'id': '54cf7980-2023-4e84-9485-a52fb6fe9e18', 'start_index': 3236}, page_content='is narrow in many places, and some spots have little visibility around curves.Signage helps you determine the difficulty of the trails at Santos. Yellow is easiest, blue is intermediate, and red is difficult. Symbols on the signs at trail intersections also spell out their difficulty to you.Pine Tree TrailAs you ride out through the archway to access the trail system, keep left to ride clockwise. You immediately join the Pine Tree Trail. This is the 2.8-mile outer loop of the Santos side of the trail'), Document(metadata={'source': 'https://floridahikes.com/santos-trails/', 'id': '1ea154e0-5152-4829-849b-03ebaf13bfbe', 'start_index': 3699}, page_content='outer loop of the Santos side of the trail system and is rated for beginners.It is a flat, gentle ride and wider than most of the rest of the trails. After you pass the turnoffs for Dr. Ruth and Cowbone (both intermediate), the northeast corner of the loop, formerly pastureland, takes you through a lot of grassy areas.Riding through a former pasture on the Pine Tree TrailYou can shorten the ride significantly by using the Shorty Trail, which cuts across the loop west so you end up with less than a mile'), Document(metadata={'source': 'https://floridahikes.com/santos-trails/', 'id': 'd332c6b9-dce2-456d-a408-bbe8eb93775c', 'start_index': 4157}, page_content='the loop west so you end up with less than a mile loop back around to the trailhead.Just south of Shorty, a side trail called the Neighborhood Trail leads 0.9 mile east to US 441 and the Santos Bike Shop, where you can pick up snacks and drinks while looking at their gear and newer mountain bikes.Trail junction near the central part of the loopThe south end of the Pine Tree Trail has a more open feel, since the oak forest has a very open understory.Just past the incoming Dr. Ruth Trail is a double-track'), Document(metadata={'source': 'https://floridahikes.com/santos-trails/', 'id': '07c0b598-da10-47d2-a1ae-8aa22d01100d', 'start_index': 4620}, page_content='the incoming Dr. Ruth Trail is a double-track leading west called Blue Highway. It’s the most direct route to the road crossing to the Vortex section, if riding there is your goal.Another stop along the Pine Tree TrailOtherwise, stick with the Pine Tree Trail through the pine forest, crossing the Florida Trail (orange blazed footpath) twice before you reach the southwest corner of the Santos section.At the T intersection, there is a extension of this trail leading down to a kiosk and road crossing used by'), Document(metadata={'source': 'https://floridahikes.com/santos-trails/', 'id': '1d614098-ba14-4562-9d80-f47761c2d2ed', 'start_index': 5081}, page_content='leading down to a kiosk and road crossing used by the Florida Trail as well as equestrians and cyclists. It connects to the Vortex parking area across the road.Intersection with the Florida Trail in the southeast corner of the loopTurning north at this T, the Pine Tree Trail parallels SE 25th Ave. It’s not a busy road but you can hear sporadic traffic along it. The equestrian trail parallels the bike path.Coming up to the junction with Blue Highway, you see a sign marked “The Other Side.” That’s the'), Document(metadata={'source': 'https://floridahikes.com/santos-trails/', 'id': '423f6f64-6b15-4fae-9481-166441594f3b', 'start_index': 5539}, page_content='see a sign marked “The Other Side.” That’s the primary trail crossing for the loop around the Vortex section.Numerous trails meet east of the Vortex access pointKeep riding north, and you’ll come across quite a few trail crossings and junctions in quick succession, all from intermediate level trails until you come up to Shorty, the connector near the top of the loop.The final segment of the Pine Tree Trail up to the trailhead arcs to the right out of the open understory into an area with dense vegetation'), Document(metadata={'source': 'https://floridahikes.com/santos-trails/', 'id': '183251d7-4407-459f-b2e4-6607d3371d96', 'start_index': 6003}, page_content='understory into an area with dense vegetation along the edges of the trail, with nowhere to easily stand aside or pass.Sinkhole TrailThe closest difficult-rated ride to the trailhead is the Sinkhole Trail, which you access by taking the turnoff for the Dr. Ruth trail to its starting point.As the name implies, it leads you down into a deep sinkhole through a series of very tight curves along the sloping forested hillside.Along a gentler portion of the Sinkhole TrailSurface limestone juts through the'), Document(metadata={'source': 'https://floridahikes.com/santos-trails/', 'id': 'd26a1188-0575-4c52-8b12-3fd1bb4b5079', 'start_index': 6458}, page_content='Sinkhole TrailSurface limestone juts through the singletrack in places, which leads you over it intentionally near the bottom.What goes down must come back up, so it’s a bit of a climb out of this deeply shaded sinkhole as well. It comes to a T intersection with the Marshmallow Trail, which in turn connects to the Pine Tree Trail.An optional boardwalk in the northwest corner of the Pine Tree TrailIt’s a 1.7-mile ride including the connector pieces of the Pine Tree Trail to get you there and back to the'), Document(metadata={'source': 'https://floridahikes.com/santos-trails/', 'id': '14f817b6-67fa-4596-8f1c-af4bd0a4d765', 'start_index': 6917}, page_content='Pine Tree Trail to get you there and back to the trailhead.Skills AreasIf you plan to try any of the skills features at Santos – which can be found on the intermediate and difficult trails, as well as optional side journeys off the beginner trails – take a spin around the Skills Area at the trailhead.The boardwalks are in a tight loop which will also provide some practice for you to deal with the tight turns found on the intermediate and difficult trails.Santos Pump Track. The Skills Area is also at the'), Document(metadata={'source': 'https://floridahikes.com/santos-trails/', 'id': '6f6d733c-421b-4018-b891-7bdea723e553', 'start_index': 7383}, page_content='Pump Track. The Skills Area is also at the trailhead.For practice on whoop-de-doos, the Santos Pump Track adjoins the trailhead. At Vortex, the Dirt Jumps let you practice going airborne and landing safely.Vortex SectionWe haven’t ridden the Vortex section yet, but we’ve walked on some of its trails in search of geocaches. There’s a very good reason it’s labeled the “Extreme Mountain Bike Section” on certain maps.It’s the pits. Known as the Freeride Area, this former limestone quarry has extremely steep'), Document(metadata={'source': 'https://floridahikes.com/santos-trails/', 'id': '3e7059e6-c9e5-45e2-837b-46662e958f17', 'start_index': 7843}, page_content='this former limestone quarry has extremely steep sides that some of the trails descend. There is also a cave in the very bottom.Warning posted at the entrance to the Freeride AreaFor your safety, a qualifier leads into the Freeride Area. If you can wrangle this technical challenge, OMBA figures you can handle the quarry. If you can’t, do yourself a favor and be a spectator until you know you won’t hurt yourself.Like the Pine Tree Trail, the Vortex section has its own gentle loop circling the edge of all of'), Document(metadata={'source': 'https://floridahikes.com/santos-trails/', 'id': '27f2b9b4-1c96-40ed-a31c-c7ee88c82663', 'start_index': 8307}, page_content='its own gentle loop circling the edge of all of the more difficult trails. It’s called the Dog Bone Trail.Dog Bone Trail at VortexThis 2.2-mile loop can be accessed either of the road crossing from the Pine Tree Trail or from the Vortex trailhead.A shorter loop, the Puppy Loop, is just north of the Vortex trailhead. This is a good one to get the kids acquainted with riding off road.At the southwest corner of the Dog Bone Trail, a connector trail leads towards Spider Kingdom, the first of a chain of'), Document(metadata={'source': 'https://floridahikes.com/santos-trails/', 'id': '4f3597e5-6025-4353-bd19-f9a905aef87f', 'start_index': 8763}, page_content='towards Spider Kingdom, the first of a chain of off-road loops stretching from here to Dunnellon.Trail MapThe orange line is the Florida Trail through Santos, and the blue line is the paved Cross Florida Greenway Bike Path. The red lines mark the loops and side trails that we’ve done. The inner trails are dotted in purple.Click for a larger versionExplore MoreArticlesBiking SantosBiking the Santos Trails for the first time this fall, I opted to leave my vintage Cannondale at home and try a rental bike for'), Document(metadata={'source': 'https://floridahikes.com/santos-trails/', 'id': '083eb370-08a6-4f2b-a39e-9a0c2130e503', 'start_index': 9229}, page_content='Cannondale at home and try a rental bike for my first spin through these famed off-road trails south of Ocala.SlideshowOur photos from riding SantosNearby Outdoor DestinationsOther nearby trails to ride.Florida Trail, Marshall Swamp3 miles. Marvel at towering trees in an ancient forest along this Florida Trail segment on the Cross Florida Greenway.Florida Trail, Dunnellon2.3 miles. Tunneling through dense floodplain forests to bridge the Withlacoochee River, the paved Dunnellon Trail segment of the Florida'), Document(metadata={'source': 'https://floridahikes.com/santos-trails/', 'id': '11811440-753a-4f4a-8a4a-7b732f5f5e51', 'start_index': 9692}, page_content='the paved Dunnellon Trail segment of the Florida Trail offers accessible users an opportunity to enjoy the outdoors.Find out more about the Santos Trails from the trail maintaining organization that built and maintains them, theOcala Mountain Bike AssociationCheck on rental prices and availability at the Santos Bike ShopOfficial OMBA Trail Map (PDF)Official Website'), Document(metadata={'source': 'https://omba.org/trail-maps/', 'id': '274e4574-1dee-4c5a-a63b-0c35b330f64d', 'start_index': 0}, page_content='TRAIL INFOCurrently there are 5 trailheads accessible from the Greenways by mountain bike trails.  There is also 1 paved trail. All located on the Greenways property.The main trailhead is the Santos Trailhead.  Traveling southeast on the trails from there are the Vortex, LandBridge, 49th Avenue and Ross Prairie trailheads.  The Baseline trailhead is a paved loop located off Baseline Road.')]\n"
     ]
    }
   ],
   "execution_count": 100
  },
  {
   "metadata": {
    "ExecuteTime": {
     "end_time": "2025-01-18T18:34:56.728384Z",
     "start_time": "2025-01-18T18:34:53.813026Z"
    }
   },
   "cell_type": "code",
   "source": [
    "import chromadb\n",
    "\n",
    "client = chromadb.PersistentClient(path=\"./my_chroma_data\")\n",
    "\n",
    "collection = client.create_collection(name=\"trailBud.2\")\n"
   ],
   "id": "8f48a8063fe9a460",
   "outputs": [],
   "execution_count": 8
  },
  {
   "metadata": {},
   "cell_type": "code",
   "outputs": [],
   "execution_count": null,
   "source": [
    "#erase all content from the database\n",
    "#collection.delete()"
   ],
   "id": "69d25b0516ac023"
  },
  {
   "metadata": {
    "ExecuteTime": {
     "end_time": "2025-01-18T18:45:10.003113Z",
     "start_time": "2025-01-18T18:45:07.690498Z"
    }
   },
   "cell_type": "code",
   "source": [
    "for split in all_splits:\n",
    "    collection.add(\n",
    "    documents=split.page_content,\n",
    "    metadatas={\"source\": split.metadata.get(\"source\"), \"id\": split.metadata.get(\"id\")},\n",
    "    ids= split.metadata.get(\"id\")\n",
    ")"
   ],
   "id": "b408aeca417ab7c",
   "outputs": [],
   "execution_count": 15
  },
  {
   "metadata": {
    "ExecuteTime": {
     "end_time": "2025-01-18T19:01:48.135762Z",
     "start_time": "2025-01-18T19:01:48.117267Z"
    }
   },
   "cell_type": "code",
   "source": [
    "# Assuming you already have your Chroma client and collection set up\n",
    "\n",
    "# Example query\n",
    "query = \"what is a suspension fork?\"\n",
    "\n",
    "# Step 1: Convert the query into an embedding\n",
    "query_embedding = model.encode(query)  # replace 'model' with your model used for embeddings\n",
    "\n",
    "# Step 2: Perform the semantic search in your Chroma collection\n",
    "results = collection.query(\n",
    "    query_embeddings=query_embedding,\n",
    "    n_results=3  # Adjust the number of results you want\n",
    ")\n",
    "\n",
    "# Step 3: Display the results\n",
    "for i, doc_list in enumerate(results['documents'], start=1):\n",
    "    print(f\"Result {i}:\")\n",
    "    for j, doc in enumerate(doc_list, start=1):\n",
    "        print(f\"  Part {j}: {doc}\\n\")  # Add a prefix for sub-documents if needed\n"
   ],
   "id": "feb0e60a1e6f41a6",
   "outputs": [
    {
     "name": "stdout",
     "output_type": "stream",
     "text": [
      "Result 1:\n",
      "  Part 1: the terminology is key to making informed decisions. Here are some common terms you should know:TermDefinitionRight suspension forkA suspension fork designed for the specific geometry of abike frame. Using the correct right suspension fork can greatly improve the performance and comfort of your ride.Rear suspensionArear suspensionsystem, such as a shock absorber, can work in conjunction with a front suspension fork to provide a smoother ride over rough terrain.Metal coil springA type of suspension fork\n",
      "\n",
      "  Part 2: By adjusting your air pressure, compression damping, and rebound damping, you can fine-tune your suspension to suit your riding style and the type of terrain you’ll be riding on.ConclusionUnderstanding suspension forks is essential for any bike enthusiast looking to enhance their performance and experience a smoother ride. Suspension forks come in a variety of types, each suited for different types of biking. When selecting a suspension fork, factors such as bike frame and riding style should be considered\n",
      "\n",
      "  Part 3: As a passionate mountain biker, I know the importance of having a smooth and comfortable ride. One of the key components that can make a significant difference is thesuspension fork.Suspension forksabsorb the impact of rough terrain and provide better control over the bike. In this article, we will dive into what you need to know aboutsuspension forksformountain bikes.\n",
      "\n"
     ]
    }
   ],
   "execution_count": 22
  },
  {
   "metadata": {
    "ExecuteTime": {
     "end_time": "2025-01-18T18:50:37.614960Z",
     "start_time": "2025-01-18T18:50:37.598470Z"
    }
   },
   "cell_type": "code",
   "source": [
    "similarity_scores = results[\"distances\"]\n",
    "print(similarity_scores)"
   ],
   "id": "95691421654c1c84",
   "outputs": [
    {
     "name": "stdout",
     "output_type": "stream",
     "text": [
      "[[0.6323789392157456, 0.7505471482812076, 0.7618706226348877]]\n"
     ]
    }
   ],
   "execution_count": 19
  }
 ],
 "metadata": {
  "kernelspec": {
   "display_name": "Python 3",
   "language": "python",
   "name": "python3"
  },
  "language_info": {
   "codemirror_mode": {
    "name": "ipython",
    "version": 2
   },
   "file_extension": ".py",
   "mimetype": "text/x-python",
   "name": "python",
   "nbconvert_exporter": "python",
   "pygments_lexer": "ipython2",
   "version": "2.7.6"
  }
 },
 "nbformat": 4,
 "nbformat_minor": 5
}
