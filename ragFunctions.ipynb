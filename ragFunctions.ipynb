{
 "cells": [
  {
   "cell_type": "code",
   "id": "initial_id",
   "metadata": {
    "collapsed": true
   },
   "source": "!pip install selenium beautifulsoup4 readability-lxml requests langchain sentence-transformers lxml",
   "outputs": [],
   "execution_count": null
  },
  {
   "metadata": {
    "ExecuteTime": {
     "end_time": "2025-01-15T15:53:21.456545Z",
     "start_time": "2025-01-15T15:52:56.816255Z"
    }
   },
   "cell_type": "code",
   "source": [
    "# For link Scrapping\n",
    "from selenium import webdriver\n",
    "from selenium.webdriver.chrome.service import Service\n",
    "from selenium.webdriver.chrome.options import Options\n",
    "from bs4 import BeautifulSoup\n",
    "\n",
    "# For web scrapping\n",
    "from readability.readability import Document as ReadabilityDocument\n",
    "import requests\n",
    "#from bs4 import BeautifulSoup\n",
    "import urllib.parse\n",
    "\n",
    "# For semantic search\n",
    "from langchain_text_splitters import RecursiveCharacterTextSplitter\n",
    "from langchain.schema import Document\n",
    "from sentence_transformers.util import cos_sim\n",
    "from sentence_transformers import SentenceTransformer\n"
   ],
   "id": "8d00d0614512e400",
   "outputs": [],
   "execution_count": 8
  },
  {
   "metadata": {
    "ExecuteTime": {
     "end_time": "2025-01-15T17:00:12.150801Z",
     "start_time": "2025-01-15T17:00:03.497488Z"
    }
   },
   "cell_type": "code",
   "source": [
    "def link_scrape(query):\n",
    "    # DuckDuckGo search URL with query\n",
    "    duckduckgo_url = f\"https://html.duckduckgo.com/html/?q={query.replace(' ', '+')}\"\n",
    "    \n",
    "    # Path to Chrome browser\n",
    "    chrome_binary_path = r\"C:\\Users\\dtafm\\Downloads\\chrome-win64\\chrome-win64\\chrome.exe\"\n",
    "    \n",
    "    options = Options()\n",
    "    options.binary_location = chrome_binary_path\n",
    "    \n",
    "    # Path to ChromeDriver\n",
    "    chromedriver_path = r'C:\\Users\\dtafm\\Downloads\\chromedriver-win64\\chromedriver-win64\\chromedriver.exe'\n",
    "    service = Service(chromedriver_path)\n",
    "    \n",
    "    # Initialize WebDriver\n",
    "    driver = webdriver.Chrome(service=service, options=options)\n",
    "    driver.get(duckduckgo_url)\n",
    "    \n",
    "    # Retrieve page content\n",
    "    html_context = driver.page_source\n",
    "    soup = BeautifulSoup(html_context, \"html.parser\")\n",
    "    \n",
    "    # Extract links\n",
    "    links = []\n",
    "    for result in soup.find_all(\"a\", class_=\"result__a\"):\n",
    "        raw_link = result['href']\n",
    "        if \"uddg=\" in raw_link:\n",
    "            decoded_link = urllib.parse.parse_qs(urllib.parse.urlparse(raw_link).query).get('uddg', [None])[0]\n",
    "            if decoded_link:\n",
    "                links.append(decoded_link) \n",
    "    \n",
    "    driver.quit()  # close the driver\n",
    "    return links\n",
    "\n",
    "x = link_scrape(\"santos bike trails\")\n",
    "print(x)"
   ],
   "id": "a34cf667a5f1ac27",
   "outputs": [
    {
     "name": "stdout",
     "output_type": "stream",
     "text": [
      "['https://www.floridastateparks.org/parks-and-trails/santos-trailhead-campground', 'https://floridahikes.com/santos-trails/', 'https://www.singletracks.com/bike-trails/santos/', 'https://omba.org/trail-maps/', 'https://www.visitflorida.com/travel-ideas/articles/adventure-biking-santos-trailhead/', 'https://www.floridastateparks.org/learn/biking-cross-florida-greenway', 'https://www.floridastateparks.org/parks-and-trails/santos-trailhead-campground/experiences-amenities', 'https://www.alltrails.com/trail/us/florida/cross-florida-greenway-trail-santos-to-cr-200', 'https://stokedmtb.com/santos-bike-trail-ocala-florida-mountain-bike-trails/', 'https://en.wikipedia.org/wiki/Santos_Trail_System']\n"
     ]
    }
   ],
   "execution_count": 24
  },
  {
   "metadata": {
    "ExecuteTime": {
     "end_time": "2025-01-15T17:00:15.844868Z",
     "start_time": "2025-01-15T17:00:15.118054Z"
    }
   },
   "cell_type": "code",
   "source": [
    "def web_scrape(links, max_texts=3):\n",
    "    combined_text = \"\" # Initialize text string\n",
    "    i = 0  # Initialize counter\n",
    "    \n",
    "    for link in links:\n",
    "        if i >= max_texts: \n",
    "            break\n",
    "        \n",
    "        # Initialize headers for http get\n",
    "        headers = {'User-Agent': \"Mozilla/5.0 (Windows NT 10.0; Win64; x64) AppleWebKit/537.36 (KHTML, like Gecko) Chrome/91.0.4472.124 Safari/537.36\"}\n",
    "        response = requests.get(link, headers=headers, timeout=10)\n",
    "        \n",
    "        # Extract text from html\n",
    "        if response.status_code == 200:\n",
    "            doc = ReadabilityDocument(response.text)  # Initialize Document\n",
    "            main_content_html = doc.summary()  # Extract main context as HTML\n",
    "            soup = BeautifulSoup(main_content_html, \"html.parser\") # Parse main content\n",
    "            main_content_text = soup.get_text(strip=True)  # Extract clean text\n",
    "            combined_text += main_content_text + \" \" # Add to combined text\n",
    "            i += 1  \n",
    "        else:\n",
    "            continue\n",
    "        \n",
    "    return combined_text\n",
    "\n",
    "\n",
    "y = web_scrape(x)\n",
    "print(y)\n"
   ],
   "id": "52476fef20847a03",
   "outputs": [
    {
     "name": "stdout",
     "output_type": "stream",
     "text": [
      "Welcome to Santos Trailhead & CampgroundExplore some of the best mountain biking in Florida and even internationally.Santos includes 80-plus miles of single-track diverse bike trails for beginners as well as expert-level trails that will challenge even the most elite riders.Developed and maintained through a partnership with the volunteer-based Ocala Mountain Bike Association, Santos is perennially rated as one of the best mountain bike facilities in existence. Numerous wooden features and the Vortex Freeride area located in a former limerock quarry provide extreme terrain in the flatlands of Florida.Annually, in the first weekend in March, OMBA hosts the Santos Fat Tire Festival at the trailhead and campground. It draws all of the top MTB manufacturers for the vendor village, demo rides and over 400 registered participants who enjoy organized trail rides and related events. It sells out every year quickly, so make sure to sign up as soon as it is announced.The Santos Trailhead has restrooms, potable water, a bike wash rack, and several picnic pavilions for relaxing and telling stories of “the ride.\" There are also several bike shops located very close to the trailhead for needed supplies, repairs or refreshments.The trailhead and campground are located just west off U.S. 441 on Southeast 80th Street between Ocala and Belleview, across from the Marion County Sheriff’s Santos Station.Also available at the Santos Trailhead is access to the Cross Florida Greenway’s extensive equestrian trail network, with 60-plus miles of horse trails, including varying levels of difficulty and wagon/carriage opportunities.TheFlorida National Scenic Trailhiking trail also traverses through the Santos Trailhead and runs westward to Dunnellon from Santos for approximately 24 miles and eastward 10-plus miles before entering the Ocala National Forest.As one of only 11 National Scenic Trails nationwide (including the Pacific Crest Trail and Appalachian Trail), this congressionally designated trail crosses approximately 1,300 miles through diverse ecological communities throughout Florida, from the Gulf National Seashore near Pensacola Beach to theFakahatchee Strandin southwest Florida.The segment from Santos west to Dunnellon goes through and along several of the historic sea-level Cross Florida Ship Canal project diggings with 40-plus-foot berms running from 0.25 to 2 miles long.Adjacent to the Santos Trailhead and its diverse trail offerings is the Santos Campground, available year-round for overnight trips. The campground features 23 sites equipped with water and electric hookups and an onsite dump station. For reservations, visit the Florida State Parksreservations websiteor call 800-326-3521 or TDD 888-433-0287. For off-road cycling, there is no better destination in Florida than the intricate web of technical bike trails built at Santos along the Cross Florida Greenway by the Ocala Mountain Bike Association.You’ll never be bored riding here. Coded for difficulty, the trail system offers unending ways to loop through the forest using inner loops and cross-paths that span across two primary loops, at Santos and “The Other Side,” now known as Vortex.John returns from looping around the Santos TrailsThese trails, in turn, hook up to a greater network of singletrack that stretches across the Greenway all the way to the Pruitt trailhead near Dunnellon.From our own rides and reconnaissance plus reading the OMBA map for the Santos-Vortex area, we estimate about 20 miles of tightly twisted singletrack (and a tiny amount of doubletrack) inside the two beginner loops in this part of the Cross Florida Greenway between SE 80th Street and SE 95th Street.ResourcesResources for exploring the areaDisclosure: As authors and affiliates, we receive earnings when you buy through our links. This helps us provide public information on this website.OverviewLocation: OcalaLength: Roughly 20-mile trail network connecting to 80+ milesTrailhead: 29.1052,-82.0951Address: 3080 SE 80th St, OcalaFees: FreeRestroom: At Santos TrailheadLand Manager: Florida State ParksPhone: 352-236-7143Open 8 AM until sunset daily. Helmets are required for all riders.A picnic area and bike wash stations are at the trailhead.  Restrooms are down a short path to the hiking trailhead. The Santos Campground adjoins that trailhead, and makes a nice base camp for exploring these trails.Bike wash and picnic pavilion at the Santos TrailheadUse caution that you don’t ride right up on a slower rider or pedestrian. Cyclists of all experience levels use these trails, and the bike paths are also open to hikers.As with all off-road trails, avoid riding after heavy rains so as to not damage the trail surface, especially at the Vortex Dirt Jumps and the Santos Pump Track.DirectionsThe trailhead is just west of US 27/301/441 in Santos – halfway between Ocala and Belleview – along SE 80th Street. Skip the first turn-in at the campground and continue past Greenway Cycle to the second entrance on the left. The long entrance road snakes back to the parking area adjoining the Santos Trails entrance and the skills area.If you plan to focus on riding the Vortex section, there is a secondary trailhead that provides direct access to it. To find it, pass by the Santos trailhead entrances and continue up to SE 25th Ave. Turn left. After the road becomes canopied when you enter the Greenway, look for a sign directing you to the right for the Vortex trailhead.RideThe trail system at Santos is designed in a series of concentric loops. The deeper into the loops you go, the tougher the trails are. This is largely due to the terrain of this area.Limestone pits used long ago as local quarries, as well as natural sinkholes – many with surface limestone and some with caves in them – provide the unexpected changes in terrain and rugged surfaces on the difficult trails.Limestone boulders along the Sinkhole TrailTrails should be generally ridden clockwise. The singletrack is narrow in many places, and some spots have little visibility around curves.Signage helps you determine the difficulty of the trails at Santos. Yellow is easiest, blue is intermediate, and red is difficult. Symbols on the signs at trail intersections also spell out their difficulty to you.Pine Tree TrailAs you ride out through the archway to access the trail system, keep left to ride clockwise. You immediately join the Pine Tree Trail. This is the 2.8-mile outer loop of the Santos side of the trail system and is rated for beginners.It is a flat, gentle ride and wider than most of the rest of the trails. After you pass the turnoffs for Dr. Ruth and Cowbone (both intermediate), the northeast corner of the loop, formerly pastureland, takes you through a lot of grassy areas.Riding through a former pasture on the Pine Tree TrailYou can shorten the ride significantly by using the Shorty Trail, which cuts across the loop west so you end up with less than a mile loop back around to the trailhead.Just south of Shorty, a side trail called the Neighborhood Trail leads 0.9 mile east to US 441 and the Santos Bike Shop, where you can pick up snacks and drinks while looking at their gear and newer mountain bikes.Trail junction near the central part of the loopThe south end of the Pine Tree Trail has a more open feel, since the oak forest has a very open understory.Just past the incoming Dr. Ruth Trail is a double-track leading west called Blue Highway. It’s the most direct route to the road crossing to the Vortex section, if riding there is your goal.Another stop along the Pine Tree TrailOtherwise, stick with the Pine Tree Trail through the pine forest, crossing the Florida Trail (orange blazed footpath) twice before you reach the southwest corner of the Santos section.At the T intersection, there is a extension of this trail leading down to a kiosk and road crossing used by the Florida Trail as well as equestrians and cyclists. It connects to the Vortex parking area across the road.Intersection with the Florida Trail in the southeast corner of the loopTurning north at this T, the Pine Tree Trail parallels SE 25th Ave. It’s not a busy road but you can hear sporadic traffic along it. The equestrian trail parallels the bike path.Coming up to the junction with Blue Highway, you see a sign marked “The Other Side.” That’s the primary trail crossing for the loop around the Vortex section.Numerous trails meet east of the Vortex access pointKeep riding north, and you’ll come across quite a few trail crossings and junctions in quick succession, all from intermediate level trails until you come up to Shorty, the connector near the top of the loop.The final segment of the Pine Tree Trail up to the trailhead arcs to the right out of the open understory into an area with dense vegetation along the edges of the trail, with nowhere to easily stand aside or pass.Sinkhole TrailThe closest difficult-rated ride to the trailhead is the Sinkhole Trail, which you access by taking the turnoff for the Dr. Ruth trail to its starting point.As the name implies, it leads you down into a deep sinkhole through a series of very tight curves along the sloping forested hillside.Along a gentler portion of the Sinkhole TrailSurface limestone juts through the singletrack in places, which leads you over it intentionally near the bottom.What goes down must come back up, so it’s a bit of a climb out of this deeply shaded sinkhole as well. It comes to a T intersection with the Marshmallow Trail, which in turn connects to the Pine Tree Trail.An optional boardwalk in the northwest corner of the Pine Tree TrailIt’s a 1.7-mile ride including the connector pieces of the Pine Tree Trail to get you there and back to the trailhead.Skills AreasIf you plan to try any of the skills features at Santos – which can be found on the intermediate and difficult trails, as well as optional side journeys off the beginner trails – take a spin around the Skills Area at the trailhead.The boardwalks are in a tight loop which will also provide some practice for you to deal with the tight turns found on the intermediate and difficult trails.Santos Pump Track. The Skills Area is also at the trailhead.For practice on whoop-de-doos, the Santos Pump Track adjoins the trailhead. At Vortex, the Dirt Jumps let you practice going airborne and landing safely.Vortex SectionWe haven’t ridden the Vortex section yet, but we’ve walked on some of its trails in search of geocaches. There’s a very good reason it’s labeled the “Extreme Mountain Bike Section” on certain maps.It’s the pits. Known as the Freeride Area, this former limestone quarry has extremely steep sides that some of the trails descend. There is also a cave in the very bottom.Warning posted at the entrance to the Freeride AreaFor your safety, a qualifier leads into the Freeride Area. If you can wrangle this technical challenge, OMBA figures you can handle the quarry. If you can’t, do yourself a favor and be a spectator until you know you won’t hurt yourself.Like the Pine Tree Trail, the Vortex section has its own gentle loop circling the edge of all of the more difficult trails. It’s called the Dog Bone Trail.Dog Bone Trail at VortexThis 2.2-mile loop can be accessed either of the road crossing from the Pine Tree Trail or from the Vortex trailhead.A shorter loop, the Puppy Loop, is just north of the Vortex trailhead. This is a good one to get the kids acquainted with riding off road.At the southwest corner of the Dog Bone Trail, a connector trail leads towards Spider Kingdom, the first of a chain of off-road loops stretching from here to Dunnellon.Trail MapThe orange line is the Florida Trail through Santos, and the blue line is the paved Cross Florida Greenway Bike Path. The red lines mark the loops and side trails that we’ve done. The inner trails are dotted in purple.Click for a larger versionExplore MoreArticlesBiking SantosBiking the Santos Trails for the first time this fall, I opted to leave my vintage Cannondale at home and try a rental bike for my first spin through these famed off-road trails south of Ocala.SlideshowOur photos from riding SantosNearby Outdoor DestinationsOther nearby trails to ride.Florida Trail, Marshall Swamp3 miles. Marvel at towering trees in an ancient forest along this Florida Trail segment on the Cross Florida Greenway.Florida Trail, Dunnellon2.3 miles. Tunneling through dense floodplain forests to bridge the Withlacoochee River, the paved Dunnellon Trail segment of the Florida Trail offers accessible users an opportunity to enjoy the outdoors.Find out more about the Santos Trails from the trail maintaining organization that built and maintains them, theOcala Mountain Bike AssociationCheck on rental prices and availability at the Santos Bike ShopOfficial OMBA Trail Map (PDF)Official Website Plus more trail news from Guernsey, Tennessee, Georgia, Alabama, and Michigan.Santos, Florida is the perfect place to escape the cold, snowy clutches of winter. This expansive mountain bike trail system offers something for everyone, from kids to adults, and beginners to experts.Mountain bike trails in Texas and Florida suffered extreme damage from flooding and fallen trees associated with Hurricanes Harvey and Irma. Learn how you can help rebuild popular bike trails.Monarch Crest Trail, Salida, Colorado. Photo: Scott Anderson  Featuring thousands of trails all around the world, the Singletracks trail database is your first stop for MTB trail…While the rest of the United States has been blanketed in snow, rendering all but the fortunate owners of fat bikes left to dream of summer singletrack, Florida has refused to participate…Ray Petro, who founded and built the revolutionary Ray's Indoor Mountain Bike Park in Cleveland, Ohio, and the second of its kind in Milwaukee, Wisconsin, sold his endeavor to Trek in 2010.… \n"
     ]
    }
   ],
   "execution_count": 25
  },
  {
   "metadata": {
    "ExecuteTime": {
     "end_time": "2025-01-15T17:00:20.292637Z",
     "start_time": "2025-01-15T17:00:19.216248Z"
    }
   },
   "cell_type": "code",
   "source": [
    "from sentence_transformers import SentenceTransformer\n",
    "\n",
    "# Load the embedding model\n",
    "model = SentenceTransformer('sentence-transformers/all-MiniLM-L6-v2')"
   ],
   "id": "ad8786da34d7fb45",
   "outputs": [],
   "execution_count": 26
  },
  {
   "metadata": {
    "ExecuteTime": {
     "end_time": "2025-01-15T17:02:02.950267Z",
     "start_time": "2025-01-15T17:02:02.423243Z"
    }
   },
   "cell_type": "code",
   "source": [
    "def relevant_context(combined_text, query):\n",
    "    # Create langchain document\n",
    "    documents = [Document(page_content=combined_text, metadata={\"source\": \"local\"})]\n",
    "\n",
    "    # Initialize the text splitter\n",
    "    text_splitter = RecursiveCharacterTextSplitter(chunk_size=512, chunk_overlap=50, add_start_index=True)\n",
    "\n",
    "    # Split the document into chunks\n",
    "    all_splits = text_splitter.split_documents(documents)\n",
    "    \n",
    "    # Embed the chunks using model\n",
    "    embeddings = [\n",
    "        {\n",
    "            \"metadata\": doc.metadata,\n",
    "            \"embedding\": model.encode(doc.page_content, convert_to_tensor=True)\n",
    "        }\n",
    "        for doc in all_splits\n",
    "    ]\n",
    "    \n",
    "    # Embed the query\n",
    "    query_embedding = model.encode(query, convert_to_tensor=True)\n",
    "\n",
    "    # Compute cosine similarity\n",
    "    results = []\n",
    "    for entry in embeddings:\n",
    "        score = cos_sim(query_embedding, entry[\"embedding\"]).item()\n",
    "        results.append({\"metadata\": entry[\"metadata\"], \"score\": score})\n",
    "\n",
    "    # Sort results by score in descending order\n",
    "    sorted_results = sorted(results, key=lambda x: x['score'], reverse=True)\n",
    "\n",
    "    # Access top 5 results and their content\n",
    "    top_5_results = sorted_results[:5]\n",
    "    for i, result in enumerate(top_5_results, start=1):\n",
    "        # Extract the start_index from metadata\n",
    "        start_index = result['metadata'].get('start_index', None)\n",
    "        if start_index is not None:\n",
    "            # Find matching content\n",
    "            content = [\n",
    "                doc.page_content for doc in all_splits\n",
    "                if doc.metadata.get('start_index') == start_index\n",
    "            ]\n",
    "        else:\n",
    "            content = [\"context not found\"]\n",
    "\n",
    "        # Print the result\n",
    "        print(f\"Top {i} Document:\")\n",
    "        print(\"Score:\", result['score'])\n",
    "        print(\"content:\", content)\n",
    "        print()\n",
    "        \n",
    "        \n",
    "relevant_context(y, \"santos bike park amenities\")\n"
   ],
   "id": "96fcdd2ea45f1f51",
   "outputs": [
    {
     "name": "stdout",
     "output_type": "stream",
     "text": [
      "Top 1 Document:\n",
      "Score: 0.6293128728866577\n",
      "content: ['riders.A picnic area and bike wash stations are at the trailhead.  Restrooms are down a short path to the hiking trailhead. The Santos Campground adjoins that trailhead, and makes a nice base camp for exploring these trails.Bike wash and picnic pavilion at the Santos TrailheadUse caution that you don’t ride right up on a slower rider or pedestrian. Cyclists of all experience levels use these trails, and the bike paths are also open to hikers.As with all off-road trails, avoid riding after heavy rains so as']\n",
      "\n",
      "Top 2 Document:\n",
      "Score: 0.6011033058166504\n",
      "content: ['sure to sign up as soon as it is announced.The Santos Trailhead has restrooms, potable water, a bike wash rack, and several picnic pavilions\\xa0for relaxing\\xa0and telling stories of “the ride.\" There are also several bike shops located very close to the trailhead for needed supplies, repairs or refreshments.The trailhead and campground are located just west off\\xa0U.S. 441 on Southeast\\xa080th Street\\xa0between Ocala and Belleview, across from the Marion County Sheriff’s Santos Station.Also available at the Santos']\n",
      "\n",
      "Top 3 Document:\n",
      "Score: 0.5737012624740601\n",
      "content: ['Welcome to Santos Trailhead & CampgroundExplore some of the best mountain biking in Florida and even internationally.Santos\\xa0includes 80-plus\\xa0miles of single-track diverse bike trails\\xa0for beginners as well as expert-level trails that will challenge even\\xa0the most elite riders.Developed and maintained through a partnership with the volunteer-based\\xa0Ocala Mountain Bike Association, Santos is perennially rated as one of the best mountain bike facilities in existence. Numerous wooden features\\xa0and the Vortex']\n",
      "\n",
      "Top 4 Document:\n",
      "Score: 0.5217723846435547\n",
      "content: ['offers accessible users an opportunity to enjoy the outdoors.Find out more about the Santos Trails from the trail maintaining organization that built and maintains them, theOcala Mountain Bike AssociationCheck on rental prices and availability at the Santos Bike ShopOfficial OMBA Trail Map (PDF)Official Website Plus more trail news from Guernsey, Tennessee, Georgia, Alabama, and Michigan.Santos, Florida is the perfect place to escape the cold, snowy clutches of winter. This expansive mountain bike trail']\n",
      "\n",
      "Top 5 Document:\n",
      "Score: 0.5125522613525391\n",
      "content: ['for exploring the areaDisclosure: As authors and affiliates, we receive earnings when you buy through our links. This helps us provide public information on this website.OverviewLocation: OcalaLength: Roughly 20-mile trail network connecting to 80+ milesTrailhead: 29.1052,-82.0951Address: 3080 SE 80th St, OcalaFees: FreeRestroom: At Santos TrailheadLand Manager: Florida State ParksPhone: 352-236-7143Open 8 AM until sunset daily. Helmets are required for all riders.A picnic area and bike wash stations are']\n",
      "\n"
     ]
    }
   ],
   "execution_count": 30
  },
  {
   "metadata": {
    "ExecuteTime": {
     "end_time": "2025-01-15T17:02:31.418548Z",
     "start_time": "2025-01-15T17:02:22.037374Z"
    }
   },
   "cell_type": "code",
   "source": [
    "# Combine the functions to retrieve context docs\n",
    "def retrieve_context_docs(query):\n",
    "    links = link_scrape(query)\n",
    "    combined_text = web_scrape(links, max_texts=3)\n",
    "    relevant_context(combined_text, query)\n",
    "\n",
    "\n",
    "query = \"santos bike park amenities\"\n",
    "\n",
    "retrieve_context_docs(query)"
   ],
   "id": "f58cd198831617cb",
   "outputs": [
    {
     "name": "stdout",
     "output_type": "stream",
     "text": [
      "Top 1 Document:\n",
      "Score: 0.6135956048965454\n",
      "content: ['for the vendor village, demo rides and over 400 registered participants who enjoy organized trail rides and related events. It sells out every year quickly, so make sure to sign up as soon as it is announced.The bicycle pump track at Santos TrailheadThe Santos Trailhead has restrooms, potable water, a bike wash rack and several picnic pavilions for relaxing and telling stories of â\\x80\\x9cthe ride.\" There are also several bike shops located very close to the trailhead for needed supplies, repairs or']\n",
      "\n",
      "Top 2 Document:\n",
      "Score: 0.6011033058166504\n",
      "content: ['sure to sign up as soon as it is announced.The Santos Trailhead has restrooms, potable water, a bike wash rack, and several picnic pavilions\\xa0for relaxing\\xa0and telling stories of “the ride.\" There are also several bike shops located very close to the trailhead for needed supplies, repairs or refreshments.The trailhead and campground are located just west off\\xa0U.S. 441 on Southeast\\xa080th Street\\xa0between Ocala and Belleview, across from the Marion County Sheriff’s Santos Station.Also available at the Santos']\n",
      "\n",
      "Top 3 Document:\n",
      "Score: 0.5737012624740601\n",
      "content: ['Welcome to Santos Trailhead & CampgroundExplore some of the best mountain biking in Florida and even internationally.Santos\\xa0includes 80-plus\\xa0miles of single-track diverse bike trails\\xa0for beginners as well as expert-level trails that will challenge even\\xa0the most elite riders.Developed and maintained through a partnership with the volunteer-based\\xa0Ocala Mountain Bike Association, Santos is perennially rated as one of the best mountain bike facilities in existence. Numerous wooden features\\xa0and the Vortex']\n",
      "\n",
      "Top 4 Document:\n",
      "Score: 0.5500779151916504\n",
      "content: ['Greenway is the epicenter of the extensive and diverse single-track trails that were designated as a Bronze Ride Center by the International Mountain Bike Association (IMBA) for its trail offerings to riders of all abilities and levels.With the 63.4 miles of trails and features available overall at this location as well as the Vortex Freeride area, Santos is consistently ranked as one of the top off-road cycling destinations in the Southeast United States\\xa0and the nation.Santos is maintained and developed']\n",
      "\n",
      "Top 5 Document:\n",
      "Score: 0.5432931184768677\n",
      "content: ['a partnership with the volunteer-based Ocala Mountain Bike Association, Santos is perennially rated as one of the best mountain bike facilities in existence. Numerous wooden â\\x80\\x9cfeaturesâ\\x80\\x9d and the Vortex Freeride area located in a former limerock quarry provide extreme terrain in the flatlands of Florida.Annually, in the first weekend in March, OMBA hosts the Santos Fat Tire Festival at the trailhead and campground. It draws all of the top MTB manufacturers for the vendor village, demo rides and over 400']\n",
      "\n"
     ]
    }
   ],
   "execution_count": 31
  }
 ],
 "metadata": {
  "kernelspec": {
   "display_name": "Python 3",
   "language": "python",
   "name": "python3"
  },
  "language_info": {
   "codemirror_mode": {
    "name": "ipython",
    "version": 2
   },
   "file_extension": ".py",
   "mimetype": "text/x-python",
   "name": "python",
   "nbconvert_exporter": "python",
   "pygments_lexer": "ipython2",
   "version": "2.7.6"
  }
 },
 "nbformat": 4,
 "nbformat_minor": 5
}
